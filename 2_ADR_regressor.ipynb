{
  "cells": [
    {
      "cell_type": "raw",
      "metadata": {},
      "source": [
        "---\n",
        "title: Building a simple deep learning model about adverse drug reactions\n",
        "date: 2025-1-8\n",
        "date-modified: 2025-4-14\n",
        "author: Jennifer HY Lin\n",
        "draft: false\n",
        "categories:\n",
        "  - Deep learning\n",
        "  - Pytorch\n",
        "  - RDKit\n",
        "  - Pandas\n",
        "  - Python\n",
        "  - ChEMBL database\n",
        "  - Toxicology\n",
        "  - Metabolism\n",
        "  - Cheminformatics\n",
        "---"
      ]
    },
    {
      "cell_type": "markdown",
      "metadata": {},
      "source": [
        "*The notebook from [this repository](https://github.com/jhylin/Adverse_drug_reactions) uses a venv created by [using uv](https://docs.astral.sh/uv/pip/environments/#creating-a-virtual-environment) with [a kernel set up this way](https://docs.astral.sh/uv/guides/integration/jupyter/#using-jupyter-from-vs-code).*\n",
        "\n",
        "*Some of the code blocks have been folded to keep the post length a bit more manageable - click on the code links to see full code (only applies to the HTML version, not the Jupyter notebook version).*\n",
        "\n",
        "<br>\n",
        "\n",
        "##### **Import libraries**"
      ]
    },
    {
      "cell_type": "code",
      "execution_count": 1,
      "metadata": {},
      "outputs": [
        {
          "name": "stdout",
          "output_type": "stream",
          "text": [
            "Pandas version used: 2.2.3\n",
            "PyTorch version used: 2.2.2\n",
            "NumPy version used: 1.26.4\n",
            "RDKit version used: 2024.03.6\n",
            "Python version used: 3.12.7 (main, Oct 16 2024, 09:10:10) [Clang 18.1.8 ]\n"
          ]
        }
      ],
      "source": [
        "#| code-fold: true\n",
        "import pandas as pd\n",
        "import torch\n",
        "import torch.nn as nn\n",
        "import torch.nn.functional as F\n",
        "from torch.nn.functional import one_hot\n",
        "from torch.utils.data import TensorDataset, DataLoader\n",
        "import numpy as np\n",
        "import datamol as dm\n",
        "import rdkit\n",
        "from rdkit import Chem\n",
        "from rdkit.Chem import rdFingerprintGenerator\n",
        "import useful_rdkit_utils as uru\n",
        "import sys\n",
        "from matplotlib import pyplot as plt\n",
        "print(f\"Pandas version used: {pd.__version__}\")\n",
        "print(f\"PyTorch version used: {torch.__version__}\")\n",
        "print(f\"NumPy version used: {np.__version__}\")\n",
        "print(f\"RDKit version used: {rdkit.__version__}\")\n",
        "print(f\"Python version used: {sys.version}\")"
      ]
    },
    {
      "cell_type": "markdown",
      "metadata": {},
      "source": [
        "<br>\n",
        "\n",
        "##### **Import adverse drug reactions (ADRs) data**\n",
        "\n",
        "This is an extremely small set of data compiled manually (by me) via references stated in the dataframe. For details about what and how the data are collected, I've prepared a separate post as a [data note](https://jhylin.github.io/Data_in_life_blog/posts/22_Simple_dnn_adrs/1_ADR_data.html) to explain key things about the data. It may not lead to a very significant result but it is done as an example of what an early or basic deep neural network (DNN) model may look like. Ideally there should be more training data and also more features added or used. I've hypothetically set the goal of this introductory piece to predict therapeutic drug classes from ADRs, molecular fingerprints and cytochrome P450 substrate strengths, but this won't be achieved in this initial post (yet)."
      ]
    },
    {
      "cell_type": "code",
      "execution_count": null,
      "metadata": {},
      "outputs": [
        {
          "name": "stdout",
          "output_type": "stream",
          "text": [
            "(32, 8)\n"
          ]
        },
        {
          "data": {
            "text/html": [
              "<div>\n",
              "<style scoped>\n",
              "    .dataframe tbody tr th:only-of-type {\n",
              "        vertical-align: middle;\n",
              "    }\n",
              "\n",
              "    .dataframe tbody tr th {\n",
              "        vertical-align: top;\n",
              "    }\n",
              "\n",
              "    .dataframe thead th {\n",
              "        text-align: right;\n",
              "    }\n",
              "</style>\n",
              "<table border=\"1\" class=\"dataframe\">\n",
              "  <thead>\n",
              "    <tr style=\"text-align: right;\">\n",
              "      <th></th>\n",
              "      <th>generic_drug_name</th>\n",
              "      <th>notes</th>\n",
              "      <th>cyp_strength_of_evidence</th>\n",
              "      <th>drug_class</th>\n",
              "      <th>adverse_drug_reactions</th>\n",
              "      <th>first_ref</th>\n",
              "      <th>second_ref</th>\n",
              "      <th>date_checked</th>\n",
              "    </tr>\n",
              "  </thead>\n",
              "  <tbody>\n",
              "    <tr>\n",
              "      <th>0</th>\n",
              "      <td>bosentan</td>\n",
              "      <td>NaN</td>\n",
              "      <td>strong</td>\n",
              "      <td>agents_for_pulmonary_hypertension</td>\n",
              "      <td>abnormal_LFT^^, headache^^, RTI^^, hemoglobin_...</td>\n",
              "      <td>drugs.com</td>\n",
              "      <td>nzf</td>\n",
              "      <td>270225</td>\n",
              "    </tr>\n",
              "    <tr>\n",
              "      <th>1</th>\n",
              "      <td>carbamazepine</td>\n",
              "      <td>NaN</td>\n",
              "      <td>strong</td>\n",
              "      <td>antiepileptics</td>\n",
              "      <td>constipation^^, leucopenia^^, dizziness^^, sed...</td>\n",
              "      <td>drugs.com</td>\n",
              "      <td>nzf</td>\n",
              "      <td>211024</td>\n",
              "    </tr>\n",
              "    <tr>\n",
              "      <th>2</th>\n",
              "      <td>eliglustat</td>\n",
              "      <td>NaN</td>\n",
              "      <td>strong</td>\n",
              "      <td>metabolic_agents</td>\n",
              "      <td>diarrhea^^, oropharyngeal_pain^^, arthralgia^^...</td>\n",
              "      <td>drugs.com</td>\n",
              "      <td>emc</td>\n",
              "      <td>151124</td>\n",
              "    </tr>\n",
              "  </tbody>\n",
              "</table>\n",
              "</div>"
            ],
            "text/plain": [
              "  generic_drug_name notes cyp_strength_of_evidence  \\\n",
              "0          bosentan   NaN                   strong   \n",
              "1     carbamazepine   NaN                   strong   \n",
              "2        eliglustat   NaN                   strong   \n",
              "\n",
              "                          drug_class  \\\n",
              "0  agents_for_pulmonary_hypertension   \n",
              "1                     antiepileptics   \n",
              "2                   metabolic_agents   \n",
              "\n",
              "                              adverse_drug_reactions  first_ref second_ref  \\\n",
              "0  abnormal_LFT^^, headache^^, RTI^^, hemoglobin_...  drugs.com        nzf   \n",
              "1  constipation^^, leucopenia^^, dizziness^^, sed...  drugs.com        nzf   \n",
              "2  diarrhea^^, oropharyngeal_pain^^, arthralgia^^...  drugs.com        emc   \n",
              "\n",
              "   date_checked  \n",
              "0        270225  \n",
              "1        211024  \n",
              "2        151124  "
            ]
          },
          "execution_count": 2,
          "metadata": {},
          "output_type": "execute_result"
        }
      ],
      "source": [
        "# 14/4/25: edited file name of .csv file and added file path to align with other files in data folder\n",
        "data = pd.read_csv(\"Data/cyp3a4_substrates.csv\")\n",
        "print(data.shape)\n",
        "data.head(3)"
      ]
    },
    {
      "cell_type": "markdown",
      "metadata": {},
      "source": [
        "For drug with astericks marked in \"notes\" column, see data notes under \"Exceptions or notes for ADRs\" section in [separate post](https://jhylin.github.io/Data_in_life_blog/posts/22_Simple_dnn_adrs/1_ADR_data.html).\n",
        "\n",
        "I'm dropping some of the columns that are not going to be used later."
      ]
    },
    {
      "cell_type": "code",
      "execution_count": 3,
      "metadata": {},
      "outputs": [
        {
          "data": {
            "text/html": [
              "<div>\n",
              "<style scoped>\n",
              "    .dataframe tbody tr th:only-of-type {\n",
              "        vertical-align: middle;\n",
              "    }\n",
              "\n",
              "    .dataframe tbody tr th {\n",
              "        vertical-align: top;\n",
              "    }\n",
              "\n",
              "    .dataframe thead th {\n",
              "        text-align: right;\n",
              "    }\n",
              "</style>\n",
              "<table border=\"1\" class=\"dataframe\">\n",
              "  <thead>\n",
              "    <tr style=\"text-align: right;\">\n",
              "      <th></th>\n",
              "      <th>generic_drug_name</th>\n",
              "      <th>cyp_strength_of_evidence</th>\n",
              "      <th>drug_class</th>\n",
              "      <th>adverse_drug_reactions</th>\n",
              "    </tr>\n",
              "  </thead>\n",
              "  <tbody>\n",
              "    <tr>\n",
              "      <th>0</th>\n",
              "      <td>bosentan</td>\n",
              "      <td>strong</td>\n",
              "      <td>agents_for_pulmonary_hypertension</td>\n",
              "      <td>abnormal_LFT^^, headache^^, RTI^^, hemoglobin_...</td>\n",
              "    </tr>\n",
              "    <tr>\n",
              "      <th>1</th>\n",
              "      <td>carbamazepine</td>\n",
              "      <td>strong</td>\n",
              "      <td>antiepileptics</td>\n",
              "      <td>constipation^^, leucopenia^^, dizziness^^, sed...</td>\n",
              "    </tr>\n",
              "    <tr>\n",
              "      <th>2</th>\n",
              "      <td>eliglustat</td>\n",
              "      <td>strong</td>\n",
              "      <td>metabolic_agents</td>\n",
              "      <td>diarrhea^^, oropharyngeal_pain^^, arthralgia^^...</td>\n",
              "    </tr>\n",
              "  </tbody>\n",
              "</table>\n",
              "</div>"
            ],
            "text/plain": [
              "  generic_drug_name cyp_strength_of_evidence  \\\n",
              "0          bosentan                   strong   \n",
              "1     carbamazepine                   strong   \n",
              "2        eliglustat                   strong   \n",
              "\n",
              "                          drug_class  \\\n",
              "0  agents_for_pulmonary_hypertension   \n",
              "1                     antiepileptics   \n",
              "2                   metabolic_agents   \n",
              "\n",
              "                              adverse_drug_reactions  \n",
              "0  abnormal_LFT^^, headache^^, RTI^^, hemoglobin_...  \n",
              "1  constipation^^, leucopenia^^, dizziness^^, sed...  \n",
              "2  diarrhea^^, oropharyngeal_pain^^, arthralgia^^...  "
            ]
          },
          "execution_count": 3,
          "metadata": {},
          "output_type": "execute_result"
        }
      ],
      "source": [
        "#| code-fold: true\n",
        "df = data.drop([\n",
        "    \"notes\",\n",
        "    \"first_ref\", \n",
        "    \"second_ref\", \n",
        "    \"date_checked\"\n",
        "    ], axis=1)\n",
        "df.head(3)"
      ]
    },
    {
      "cell_type": "markdown",
      "metadata": {},
      "source": [
        "<br>\n",
        "\n",
        "##### **Import SMILES data from ChEMBL**\n",
        "\n",
        "Before extracting data from ChEMBL, I'm getting a list of drug names in capital letters ready first which can be fed into chembl_downloader with my old cyp_drugs.py to retrieve the SMILES of these drugs."
      ]
    },
    {
      "cell_type": "code",
      "execution_count": 4,
      "metadata": {},
      "outputs": [
        {
          "name": "stdout",
          "output_type": "stream",
          "text": [
            "'BOSENTAN','CARBAMAZEPINE','ELIGLUSTAT','FLIBANSERIN','IMATINIB','IBRUTINIB','NERATINIB','ESOMEPRAZOLE','OMEPRAZOLE','IVACAFTOR','NALOXEGOL','OXYCODONE','SIROLIMUS','TERFENADINE','TRAZODONE','TRIAZOLAM','DIAZEPAM','HYDROCORTISONE','LANSOPRAZOLE','PANTOPRAZOLE','LERCANIDIPINE','NALDEMEDINE','NELFINAVIR','TELAPREVIR','ONDANSETRON','QUININE','RIBOCICLIB','SUVOREXANT','TELITHROMYCIN','TEMSIROLIMUS','VENLAFAXINE','ZOLPIDEM'\n"
          ]
        }
      ],
      "source": [
        "#| code-fold: true\n",
        "string = df[\"generic_drug_name\"].tolist()\n",
        "# Convert list of drugs into multiple strings of drug names\n",
        "drugs = f\"'{\"','\".join(string)}'\"\n",
        "# Convert from lower case to upper case\n",
        "for letter in drugs:\n",
        "    if letter.islower():\n",
        "        drugs = drugs.replace(letter, letter.upper())\n",
        "print(drugs)"
      ]
    },
    {
      "cell_type": "code",
      "execution_count": null,
      "metadata": {},
      "outputs": [
        {
          "name": "stdout",
          "output_type": "stream",
          "text": [
            "(27, 4)\n"
          ]
        },
        {
          "data": {
            "text/html": [
              "<div>\n",
              "<style scoped>\n",
              "    .dataframe tbody tr th:only-of-type {\n",
              "        vertical-align: middle;\n",
              "    }\n",
              "\n",
              "    .dataframe tbody tr th {\n",
              "        vertical-align: top;\n",
              "    }\n",
              "\n",
              "    .dataframe thead th {\n",
              "        text-align: right;\n",
              "    }\n",
              "</style>\n",
              "<table border=\"1\" class=\"dataframe\">\n",
              "  <thead>\n",
              "    <tr style=\"text-align: right;\">\n",
              "      <th></th>\n",
              "      <th>chembl_id</th>\n",
              "      <th>pref_name</th>\n",
              "      <th>max_phase</th>\n",
              "      <th>canonical_smiles</th>\n",
              "    </tr>\n",
              "  </thead>\n",
              "  <tbody>\n",
              "    <tr>\n",
              "      <th>0</th>\n",
              "      <td>CHEMBL108</td>\n",
              "      <td>CARBAMAZEPINE</td>\n",
              "      <td>4</td>\n",
              "      <td>NC(=O)N1c2ccccc2C=Cc2ccccc21</td>\n",
              "    </tr>\n",
              "    <tr>\n",
              "      <th>1</th>\n",
              "      <td>CHEMBL12</td>\n",
              "      <td>DIAZEPAM</td>\n",
              "      <td>4</td>\n",
              "      <td>CN1C(=O)CN=C(c2ccccc2)c2cc(Cl)ccc21</td>\n",
              "    </tr>\n",
              "    <tr>\n",
              "      <th>2</th>\n",
              "      <td>CHEMBL2110588</td>\n",
              "      <td>ELIGLUSTAT</td>\n",
              "      <td>4</td>\n",
              "      <td>CCCCCCCC(=O)N[C@H](CN1CCCC1)[C@H](O)c1ccc2c(c1...</td>\n",
              "    </tr>\n",
              "  </tbody>\n",
              "</table>\n",
              "</div>"
            ],
            "text/plain": [
              "       chembl_id      pref_name  max_phase  \\\n",
              "0      CHEMBL108  CARBAMAZEPINE          4   \n",
              "1       CHEMBL12       DIAZEPAM          4   \n",
              "2  CHEMBL2110588     ELIGLUSTAT          4   \n",
              "\n",
              "                                    canonical_smiles  \n",
              "0                       NC(=O)N1c2ccccc2C=Cc2ccccc21  \n",
              "1                CN1C(=O)CN=C(c2ccccc2)c2cc(Cl)ccc21  \n",
              "2  CCCCCCCC(=O)N[C@H](CN1CCCC1)[C@H](O)c1ccc2c(c1...  "
            ]
          },
          "execution_count": 5,
          "metadata": {},
          "output_type": "execute_result"
        }
      ],
      "source": [
        "#| code-fold: true\n",
        "# Get SMILES for each drug (via copying-and-pasting the previous cell output - attempted various ways to feed the string\n",
        "# directly into cyp_drugs.py, current way seems to be the most straightforward one...)\n",
        "from cyp_drugs import chembl_drugs\n",
        "# Using ChEMBL version 34\n",
        "df_3a4 = chembl_drugs(\n",
        "    'CARBAMAZEPINE','ELIGLUSTAT','FLIBANSERIN','IMATINIB','IBRUTINIB','NERATINIB','ESOMEPRAZOLE','OMEPRAZOLE','IVACAFTOR','NALOXEGOL','OXYCODONE','SIROLIMUS','TERFENADINE','DIAZEPAM','HYDROCORTISONE','LANSOPRAZOLE','PANTOPRAZOLE','LERCANIDIPINE','NALDEMEDINE','NELFINAVIR','TELAPREVIR','ONDANSETRON','QUININE','RIBOCICLIB','SUVOREXANT','TELITHROMYCIN','TEMSIROLIMUS',  \n",
        "    #file_name=\"All_cyp3a4_smiles\"\n",
        "    )\n",
        "print(df_3a4.shape)\n",
        "df_3a4.head(3)\n",
        "\n",
        "## Note: latest ChEMBL version 35 (as from 1st Dec 2024) seems to be taking a long time to load (no output after ~7min) \n",
        "# 22/6/25 -> this may be to do with sqlite history issue (looking into this currently...), \n",
        "## both versions 33 & 34 are ok with outputs loading within a few secs"
      ]
    },
    {
      "cell_type": "markdown",
      "metadata": {},
      "source": [
        "<br>\n",
        "\n",
        "##### **Merge dataframes**\n",
        "\n",
        "Next, I'm renaming the drug name column and merging the two dataframes together where one contains the ADRs and the other one contains the SMILES. I'm also making sure all drug names are in upper case for both dataframes so they can merge properly."
      ]
    },
    {
      "cell_type": "code",
      "execution_count": null,
      "metadata": {},
      "outputs": [
        {
          "data": {
            "text/html": [
              "<div>\n",
              "<style scoped>\n",
              "    .dataframe tbody tr th:only-of-type {\n",
              "        vertical-align: middle;\n",
              "    }\n",
              "\n",
              "    .dataframe tbody tr th {\n",
              "        vertical-align: top;\n",
              "    }\n",
              "\n",
              "    .dataframe thead th {\n",
              "        text-align: right;\n",
              "    }\n",
              "</style>\n",
              "<table border=\"1\" class=\"dataframe\">\n",
              "  <thead>\n",
              "    <tr style=\"text-align: right;\">\n",
              "      <th></th>\n",
              "      <th>pref_name</th>\n",
              "      <th>cyp_strength_of_evidence</th>\n",
              "      <th>drug_class</th>\n",
              "      <th>adverse_drug_reactions</th>\n",
              "      <th>chembl_id</th>\n",
              "      <th>max_phase</th>\n",
              "      <th>canonical_smiles</th>\n",
              "    </tr>\n",
              "  </thead>\n",
              "  <tbody>\n",
              "    <tr>\n",
              "      <th>0</th>\n",
              "      <td>CARBAMAZEPINE</td>\n",
              "      <td>strong</td>\n",
              "      <td>antiepileptics</td>\n",
              "      <td>constipation^^, leucopenia^^, dizziness^^, sed...</td>\n",
              "      <td>CHEMBL108</td>\n",
              "      <td>4</td>\n",
              "      <td>NC(=O)N1c2ccccc2C=Cc2ccccc21</td>\n",
              "    </tr>\n",
              "    <tr>\n",
              "      <th>1</th>\n",
              "      <td>ELIGLUSTAT</td>\n",
              "      <td>strong</td>\n",
              "      <td>metabolic_agents</td>\n",
              "      <td>diarrhea^^, oropharyngeal_pain^^, arthralgia^^...</td>\n",
              "      <td>CHEMBL2110588</td>\n",
              "      <td>4</td>\n",
              "      <td>CCCCCCCC(=O)N[C@H](CN1CCCC1)[C@H](O)c1ccc2c(c1...</td>\n",
              "    </tr>\n",
              "    <tr>\n",
              "      <th>2</th>\n",
              "      <td>FLIBANSERIN</td>\n",
              "      <td>strong</td>\n",
              "      <td>CNS_agents</td>\n",
              "      <td>dizziness^^, sedation^^, fatigue^, vertigo^, a...</td>\n",
              "      <td>CHEMBL231068</td>\n",
              "      <td>4</td>\n",
              "      <td>O=c1[nH]c2ccccc2n1CCN1CCN(c2cccc(C(F)(F)F)c2)CC1</td>\n",
              "    </tr>\n",
              "  </tbody>\n",
              "</table>\n",
              "</div>"
            ],
            "text/plain": [
              "       pref_name cyp_strength_of_evidence        drug_class  \\\n",
              "0  CARBAMAZEPINE                   strong    antiepileptics   \n",
              "1     ELIGLUSTAT                   strong  metabolic_agents   \n",
              "2    FLIBANSERIN                   strong        CNS_agents   \n",
              "\n",
              "                              adverse_drug_reactions      chembl_id  \\\n",
              "0  constipation^^, leucopenia^^, dizziness^^, sed...      CHEMBL108   \n",
              "1  diarrhea^^, oropharyngeal_pain^^, arthralgia^^...  CHEMBL2110588   \n",
              "2  dizziness^^, sedation^^, fatigue^, vertigo^, a...   CHEMBL231068   \n",
              "\n",
              "   max_phase                                   canonical_smiles  \n",
              "0          4                       NC(=O)N1c2ccccc2C=Cc2ccccc21  \n",
              "1          4  CCCCCCCC(=O)N[C@H](CN1CCCC1)[C@H](O)c1ccc2c(c1...  \n",
              "2          4   O=c1[nH]c2ccccc2n1CCN1CCN(c2cccc(C(F)(F)F)c2)CC1  "
            ]
          },
          "execution_count": 6,
          "metadata": {},
          "output_type": "execute_result"
        }
      ],
      "source": [
        "#| code-fold: true\n",
        "# Rename column & change lower to uppercase\n",
        "df = df.rename(columns={\"generic_drug_name\": \"pref_name\"})\n",
        "df[\"pref_name\"] = df[\"pref_name\"].str.upper()\n",
        "# Merge df & df_3a4 - edited code below, previous merging produced some SMILES as \"NaN\"! \n",
        "#old code: df = df.merge(df_3a4, how=\"left\", on=\"pref_name\")\n",
        "df = df.merge(df_3a4, on=\"pref_name\")\n",
        "df.head(3)"
      ]
    },
    {
      "cell_type": "markdown",
      "metadata": {},
      "source": [
        "<br>\n",
        "\n",
        "##### **Parse SMILES**\n",
        "\n",
        "Then I'm parsing the canonical SMILES through my old script to generate these small molecules as RDKit molecules and standardised SMILES, making sure these SMILES are parsable."
      ]
    },
    {
      "cell_type": "code",
      "execution_count": 7,
      "metadata": {},
      "outputs": [
        {
          "name": "stdout",
          "output_type": "stream",
          "text": [
            "(27, 9)\n"
          ]
        },
        {
          "data": {
            "text/html": [
              "<div>\n",
              "<style scoped>\n",
              "    .dataframe tbody tr th:only-of-type {\n",
              "        vertical-align: middle;\n",
              "    }\n",
              "\n",
              "    .dataframe tbody tr th {\n",
              "        vertical-align: top;\n",
              "    }\n",
              "\n",
              "    .dataframe thead th {\n",
              "        text-align: right;\n",
              "    }\n",
              "</style>\n",
              "<table border=\"1\" class=\"dataframe\">\n",
              "  <thead>\n",
              "    <tr style=\"text-align: right;\">\n",
              "      <th></th>\n",
              "      <th>pref_name</th>\n",
              "      <th>cyp_strength_of_evidence</th>\n",
              "      <th>drug_class</th>\n",
              "      <th>adverse_drug_reactions</th>\n",
              "      <th>chembl_id</th>\n",
              "      <th>max_phase</th>\n",
              "      <th>canonical_smiles</th>\n",
              "      <th>rdkit_mol</th>\n",
              "      <th>standard_smiles</th>\n",
              "    </tr>\n",
              "  </thead>\n",
              "  <tbody>\n",
              "    <tr>\n",
              "      <th>0</th>\n",
              "      <td>CARBAMAZEPINE</td>\n",
              "      <td>strong</td>\n",
              "      <td>antiepileptics</td>\n",
              "      <td>constipation^^, leucopenia^^, dizziness^^, sed...</td>\n",
              "      <td>CHEMBL108</td>\n",
              "      <td>4</td>\n",
              "      <td>NC(=O)N1c2ccccc2C=Cc2ccccc21</td>\n",
              "      <td>&lt;rdkit.Chem.rdchem.Mol object at 0x14365f840&gt;</td>\n",
              "      <td>NC(=O)N1c2ccccc2C=Cc2ccccc21</td>\n",
              "    </tr>\n",
              "    <tr>\n",
              "      <th>1</th>\n",
              "      <td>ELIGLUSTAT</td>\n",
              "      <td>strong</td>\n",
              "      <td>metabolic_agents</td>\n",
              "      <td>diarrhea^^, oropharyngeal_pain^^, arthralgia^^...</td>\n",
              "      <td>CHEMBL2110588</td>\n",
              "      <td>4</td>\n",
              "      <td>CCCCCCCC(=O)N[C@H](CN1CCCC1)[C@H](O)c1ccc2c(c1...</td>\n",
              "      <td>&lt;rdkit.Chem.rdchem.Mol object at 0x14365f920&gt;</td>\n",
              "      <td>CCCCCCCC(=O)N[C@H](CN1CCCC1)[C@H](O)c1ccc2c(c1...</td>\n",
              "    </tr>\n",
              "    <tr>\n",
              "      <th>2</th>\n",
              "      <td>FLIBANSERIN</td>\n",
              "      <td>strong</td>\n",
              "      <td>CNS_agents</td>\n",
              "      <td>dizziness^^, sedation^^, fatigue^, vertigo^, a...</td>\n",
              "      <td>CHEMBL231068</td>\n",
              "      <td>4</td>\n",
              "      <td>O=c1[nH]c2ccccc2n1CCN1CCN(c2cccc(C(F)(F)F)c2)CC1</td>\n",
              "      <td>&lt;rdkit.Chem.rdchem.Mol object at 0x14365f990&gt;</td>\n",
              "      <td>O=c1[nH]c2ccccc2n1CCN1CCN(c2cccc(C(F)(F)F)c2)CC1</td>\n",
              "    </tr>\n",
              "  </tbody>\n",
              "</table>\n",
              "</div>"
            ],
            "text/plain": [
              "       pref_name cyp_strength_of_evidence        drug_class  \\\n",
              "0  CARBAMAZEPINE                   strong    antiepileptics   \n",
              "1     ELIGLUSTAT                   strong  metabolic_agents   \n",
              "2    FLIBANSERIN                   strong        CNS_agents   \n",
              "\n",
              "                              adverse_drug_reactions      chembl_id  \\\n",
              "0  constipation^^, leucopenia^^, dizziness^^, sed...      CHEMBL108   \n",
              "1  diarrhea^^, oropharyngeal_pain^^, arthralgia^^...  CHEMBL2110588   \n",
              "2  dizziness^^, sedation^^, fatigue^, vertigo^, a...   CHEMBL231068   \n",
              "\n",
              "   max_phase                                   canonical_smiles  \\\n",
              "0          4                       NC(=O)N1c2ccccc2C=Cc2ccccc21   \n",
              "1          4  CCCCCCCC(=O)N[C@H](CN1CCCC1)[C@H](O)c1ccc2c(c1...   \n",
              "2          4   O=c1[nH]c2ccccc2n1CCN1CCN(c2cccc(C(F)(F)F)c2)CC1   \n",
              "\n",
              "                                       rdkit_mol  \\\n",
              "0  <rdkit.Chem.rdchem.Mol object at 0x14365f840>   \n",
              "1  <rdkit.Chem.rdchem.Mol object at 0x14365f920>   \n",
              "2  <rdkit.Chem.rdchem.Mol object at 0x14365f990>   \n",
              "\n",
              "                                     standard_smiles  \n",
              "0                       NC(=O)N1c2ccccc2C=Cc2ccccc21  \n",
              "1  CCCCCCCC(=O)N[C@H](CN1CCCC1)[C@H](O)c1ccc2c(c1...  \n",
              "2   O=c1[nH]c2ccccc2n1CCN1CCN(c2cccc(C(F)(F)F)c2)CC1  "
            ]
          },
          "execution_count": 7,
          "metadata": {},
          "output_type": "execute_result"
        }
      ],
      "source": [
        "#| code-fold: true\n",
        "\n",
        "# Using my previous code to preprocess small mols\n",
        "# disable rdkit messages\n",
        "dm.disable_rdkit_log()\n",
        "\n",
        "#  The following function code were adapted from datamol.io\n",
        "def preprocess(row):\n",
        "\n",
        "    \"\"\"\n",
        "    Function to preprocess, fix, standardise, sanitise compounds \n",
        "    and then generate various molecular representations based on these molecules.\n",
        "    Can be utilised as df.apply(preprocess, axis=1).\n",
        "\n",
        "    :param smiles_column: SMILES column name (needs to be names as \"canonical_smiles\") \n",
        "    derived from ChEMBL database (or any other sources) via an input dataframe\n",
        "    :param mol: RDKit molecules\n",
        "    :return: preprocessed RDKit molecules, standardised SMILES, SELFIES, \n",
        "    InChI and InChI keys added as separate columns in the dataframe\n",
        "    \"\"\"\n",
        "\n",
        "    # smiles_column = strings object\n",
        "    smiles_column = \"canonical_smiles\"\n",
        "    # Convert each compound into a RDKit molecule in the smiles column\n",
        "    mol = dm.to_mol(row[smiles_column], ordered=True)\n",
        "    # Fix common errors in the molecules\n",
        "    mol = dm.fix_mol(mol)\n",
        "    # Sanitise the molecules \n",
        "    mol = dm.sanitize_mol(mol, sanifix=True, charge_neutral=False)\n",
        "    # Standardise the molecules\n",
        "    mol = dm.standardize_mol(\n",
        "        mol,\n",
        "        # Switch on to disconnect metal ions\n",
        "        disconnect_metals=True,\n",
        "        normalize=True,\n",
        "        reionize=True,\n",
        "        # Switch on \"uncharge\" to neutralise charges\n",
        "        uncharge=True,\n",
        "        # Taking care of stereochemistries of compounds\n",
        "        # Note: this uses the older approach of \"AssignStereochemistry()\" from RDKit\n",
        "        # https://github.com/datamol-io/datamol/blob/main/datamol/mol.py#L488\n",
        "        stereo=True,\n",
        "    )\n",
        "\n",
        "    # Adding following rows of different molecular representations \n",
        "    row[\"rdkit_mol\"] = dm.to_mol(mol)\n",
        "    row[\"standard_smiles\"] = dm.standardize_smiles(str(dm.to_smiles(mol)))\n",
        "    #row[\"selfies\"] = dm.to_selfies(mol)\n",
        "    #row[\"inchi\"] = dm.to_inchi(mol)\n",
        "    #row[\"inchikey\"] = dm.to_inchikey(mol)\n",
        "    return row\n",
        "\n",
        "df_p3a4 = df.apply(preprocess, axis = 1)\n",
        "print(df_p3a4.shape)\n",
        "df_p3a4.head(3)"
      ]
    },
    {
      "cell_type": "markdown",
      "metadata": {},
      "source": [
        "<br>\n",
        "\n",
        "##### **Split data**\n",
        "\n",
        "Random splits usually lead to overly optimistic models, where testing molecules are too similar to traininig molecules leading to many problems. This is further discussed in two other blog posts that I've found useful - [post by Greg Landrum](https://greglandrum.github.io/rdkit-blog/posts/2024-05-31-scaffold-splits-and-murcko-scaffolds1.html) and [post by Pat Walters](https://practicalcheminformatics.blogspot.com/2024/11/some-thoughts-on-splitting-chemical.html).\n",
        "\n",
        "Here I'm trying out Pat's [useful_rdkit_utils](https://github.com/PatWalters/useful_rdkit_utils)' GroupKFoldShuffle code (code originated from [this thread](https://github.com/scikit-learn/scikit-learn/issues/20520)) to split data (Butina clustering/splits). To do this, it requires SMILES to generate molecular fingerprints which will be used in the training and testing sets (potentially for future posts and in real-life cases, more things can be done with the SMILES or other molecular representations for machine learning, but to keep this post easy-to-read, I'll stick with only generating the Morgan fingerprints for now). "
      ]
    },
    {
      "cell_type": "code",
      "execution_count": 8,
      "metadata": {},
      "outputs": [
        {
          "name": "stdout",
          "output_type": "stream",
          "text": [
            "20 7\n",
            "23 4\n",
            "20 7\n",
            "23 4\n",
            "22 5\n"
          ]
        }
      ],
      "source": [
        "#| code-fold: true\n",
        "# Generate numpy arrays containing the fingerprints \n",
        "df_p3a4['fp'] = df_p3a4.rdkit_mol.apply(rdFingerprintGenerator.GetMorganGenerator().GetCountFingerprintAsNumPy)\n",
        "\n",
        "# Get Butina cluster labels\n",
        "df_p3a4[\"butina_cluster\"] = uru.get_butina_clusters(df_p3a4.standard_smiles)\n",
        "\n",
        "# Set up a GroupKFoldShuffle object\n",
        "group_kfold_shuffle = uru.GroupKFoldShuffle(n_splits=5, shuffle=True)\n",
        "\n",
        "# Using cross-validation/doing data split\n",
        "## X = np.stack(df_s3a4.fp), y = df.adverse_drug_reactions, group labels = df_s3a4.butina_cluster\n",
        "for train, test in group_kfold_shuffle.split(np.stack(df_p3a4.fp), df.adverse_drug_reactions, df_p3a4.butina_cluster):\n",
        "    print(len(train),len(test))"
      ]
    },
    {
      "cell_type": "markdown",
      "metadata": {},
      "source": [
        "<br>\n",
        "\n",
        "##### **Locate training and testing sets after data split**\n",
        "\n",
        "While trying to figure out how to locate training and testing sets after the data split, I've gone into a mini rabbit hole myself (a self-confusing session but gladly it clears up when my thought process goes further...). For example, some of the ways I've planned to try: create a dictionary as {index: butina label} first - butina cluster labels vs. index e.g. df_s3a4[\"butina_cluster\"], or maybe can directly convert from NumPy array to tensor - will need to locate drugs via indices first to specify training and testing sets, e.g. torch_train = torch.from_numpy(train) or torch_test = torch.from_numpy(test). It is actually simpler than this, which is to use pd.DataFrame.iloc() as shown below."
      ]
    },
    {
      "cell_type": "code",
      "execution_count": 9,
      "metadata": {},
      "outputs": [
        {
          "data": {
            "text/plain": [
              "array([ 0,  1,  2,  3,  4,  5,  6,  7,  8,  9, 10, 12, 14, 15, 16, 18, 19,\n",
              "       20, 21, 23, 24, 25])"
            ]
          },
          "execution_count": 9,
          "metadata": {},
          "output_type": "execute_result"
        }
      ],
      "source": [
        "# Training set indices\n",
        "train"
      ]
    },
    {
      "cell_type": "code",
      "execution_count": 10,
      "metadata": {},
      "outputs": [
        {
          "data": {
            "text/html": [
              "<div>\n",
              "<style scoped>\n",
              "    .dataframe tbody tr th:only-of-type {\n",
              "        vertical-align: middle;\n",
              "    }\n",
              "\n",
              "    .dataframe tbody tr th {\n",
              "        vertical-align: top;\n",
              "    }\n",
              "\n",
              "    .dataframe thead th {\n",
              "        text-align: right;\n",
              "    }\n",
              "</style>\n",
              "<table border=\"1\" class=\"dataframe\">\n",
              "  <thead>\n",
              "    <tr style=\"text-align: right;\">\n",
              "      <th></th>\n",
              "      <th>pref_name</th>\n",
              "      <th>cyp_strength_of_evidence</th>\n",
              "      <th>drug_class</th>\n",
              "      <th>adverse_drug_reactions</th>\n",
              "      <th>chembl_id</th>\n",
              "      <th>max_phase</th>\n",
              "      <th>canonical_smiles</th>\n",
              "      <th>rdkit_mol</th>\n",
              "      <th>standard_smiles</th>\n",
              "      <th>fp</th>\n",
              "      <th>butina_cluster</th>\n",
              "    </tr>\n",
              "  </thead>\n",
              "  <tbody>\n",
              "    <tr>\n",
              "      <th>0</th>\n",
              "      <td>CARBAMAZEPINE</td>\n",
              "      <td>strong</td>\n",
              "      <td>antiepileptics</td>\n",
              "      <td>constipation^^, leucopenia^^, dizziness^^, sed...</td>\n",
              "      <td>CHEMBL108</td>\n",
              "      <td>4</td>\n",
              "      <td>NC(=O)N1c2ccccc2C=Cc2ccccc21</td>\n",
              "      <td>&lt;rdkit.Chem.rdchem.Mol object at 0x14365f840&gt;</td>\n",
              "      <td>NC(=O)N1c2ccccc2C=Cc2ccccc21</td>\n",
              "      <td>[0, 0, 0, 0, 0, 0, 0, 0, 0, 0, 0, 0, 0, 0, 0, ...</td>\n",
              "      <td>20</td>\n",
              "    </tr>\n",
              "  </tbody>\n",
              "</table>\n",
              "</div>"
            ],
            "text/plain": [
              "       pref_name cyp_strength_of_evidence      drug_class  \\\n",
              "0  CARBAMAZEPINE                   strong  antiepileptics   \n",
              "\n",
              "                              adverse_drug_reactions  chembl_id  max_phase  \\\n",
              "0  constipation^^, leucopenia^^, dizziness^^, sed...  CHEMBL108          4   \n",
              "\n",
              "               canonical_smiles  \\\n",
              "0  NC(=O)N1c2ccccc2C=Cc2ccccc21   \n",
              "\n",
              "                                       rdkit_mol  \\\n",
              "0  <rdkit.Chem.rdchem.Mol object at 0x14365f840>   \n",
              "\n",
              "                standard_smiles  \\\n",
              "0  NC(=O)N1c2ccccc2C=Cc2ccccc21   \n",
              "\n",
              "                                                  fp  butina_cluster  \n",
              "0  [0, 0, 0, 0, 0, 0, 0, 0, 0, 0, 0, 0, 0, 0, 0, ...              20  "
            ]
          },
          "execution_count": 10,
          "metadata": {},
          "output_type": "execute_result"
        }
      ],
      "source": [
        "# What df_p3a4 now looks like after data split - with \"fp\" and \"butina_cluster\" columns added\n",
        "df_p3a4.head(1)"
      ]
    },
    {
      "cell_type": "code",
      "execution_count": 11,
      "metadata": {},
      "outputs": [
        {
          "name": "stdout",
          "output_type": "stream",
          "text": [
            "(22, 11)\n"
          ]
        },
        {
          "data": {
            "text/html": [
              "<div>\n",
              "<style scoped>\n",
              "    .dataframe tbody tr th:only-of-type {\n",
              "        vertical-align: middle;\n",
              "    }\n",
              "\n",
              "    .dataframe tbody tr th {\n",
              "        vertical-align: top;\n",
              "    }\n",
              "\n",
              "    .dataframe thead th {\n",
              "        text-align: right;\n",
              "    }\n",
              "</style>\n",
              "<table border=\"1\" class=\"dataframe\">\n",
              "  <thead>\n",
              "    <tr style=\"text-align: right;\">\n",
              "      <th></th>\n",
              "      <th>pref_name</th>\n",
              "      <th>cyp_strength_of_evidence</th>\n",
              "      <th>drug_class</th>\n",
              "      <th>adverse_drug_reactions</th>\n",
              "      <th>chembl_id</th>\n",
              "      <th>max_phase</th>\n",
              "      <th>canonical_smiles</th>\n",
              "      <th>rdkit_mol</th>\n",
              "      <th>standard_smiles</th>\n",
              "      <th>fp</th>\n",
              "      <th>butina_cluster</th>\n",
              "    </tr>\n",
              "  </thead>\n",
              "  <tbody>\n",
              "    <tr>\n",
              "      <th>0</th>\n",
              "      <td>CARBAMAZEPINE</td>\n",
              "      <td>strong</td>\n",
              "      <td>antiepileptics</td>\n",
              "      <td>constipation^^, leucopenia^^, dizziness^^, sed...</td>\n",
              "      <td>CHEMBL108</td>\n",
              "      <td>4</td>\n",
              "      <td>NC(=O)N1c2ccccc2C=Cc2ccccc21</td>\n",
              "      <td>&lt;rdkit.Chem.rdchem.Mol object at 0x14365f840&gt;</td>\n",
              "      <td>NC(=O)N1c2ccccc2C=Cc2ccccc21</td>\n",
              "      <td>[0, 0, 0, 0, 0, 0, 0, 0, 0, 0, 0, 0, 0, 0, 0, ...</td>\n",
              "      <td>20</td>\n",
              "    </tr>\n",
              "    <tr>\n",
              "      <th>1</th>\n",
              "      <td>ELIGLUSTAT</td>\n",
              "      <td>strong</td>\n",
              "      <td>metabolic_agents</td>\n",
              "      <td>diarrhea^^, oropharyngeal_pain^^, arthralgia^^...</td>\n",
              "      <td>CHEMBL2110588</td>\n",
              "      <td>4</td>\n",
              "      <td>CCCCCCCC(=O)N[C@H](CN1CCCC1)[C@H](O)c1ccc2c(c1...</td>\n",
              "      <td>&lt;rdkit.Chem.rdchem.Mol object at 0x14365f920&gt;</td>\n",
              "      <td>CCCCCCCC(=O)N[C@H](CN1CCCC1)[C@H](O)c1ccc2c(c1...</td>\n",
              "      <td>[0, 2, 0, 0, 0, 0, 0, 0, 0, 0, 0, 0, 0, 0, 0, ...</td>\n",
              "      <td>19</td>\n",
              "    </tr>\n",
              "  </tbody>\n",
              "</table>\n",
              "</div>"
            ],
            "text/plain": [
              "       pref_name cyp_strength_of_evidence        drug_class  \\\n",
              "0  CARBAMAZEPINE                   strong    antiepileptics   \n",
              "1     ELIGLUSTAT                   strong  metabolic_agents   \n",
              "\n",
              "                              adverse_drug_reactions      chembl_id  \\\n",
              "0  constipation^^, leucopenia^^, dizziness^^, sed...      CHEMBL108   \n",
              "1  diarrhea^^, oropharyngeal_pain^^, arthralgia^^...  CHEMBL2110588   \n",
              "\n",
              "   max_phase                                   canonical_smiles  \\\n",
              "0          4                       NC(=O)N1c2ccccc2C=Cc2ccccc21   \n",
              "1          4  CCCCCCCC(=O)N[C@H](CN1CCCC1)[C@H](O)c1ccc2c(c1...   \n",
              "\n",
              "                                       rdkit_mol  \\\n",
              "0  <rdkit.Chem.rdchem.Mol object at 0x14365f840>   \n",
              "1  <rdkit.Chem.rdchem.Mol object at 0x14365f920>   \n",
              "\n",
              "                                     standard_smiles  \\\n",
              "0                       NC(=O)N1c2ccccc2C=Cc2ccccc21   \n",
              "1  CCCCCCCC(=O)N[C@H](CN1CCCC1)[C@H](O)c1ccc2c(c1...   \n",
              "\n",
              "                                                  fp  butina_cluster  \n",
              "0  [0, 0, 0, 0, 0, 0, 0, 0, 0, 0, 0, 0, 0, 0, 0, ...              20  \n",
              "1  [0, 2, 0, 0, 0, 0, 0, 0, 0, 0, 0, 0, 0, 0, 0, ...              19  "
            ]
          },
          "execution_count": 11,
          "metadata": {},
          "output_type": "execute_result"
        }
      ],
      "source": [
        "# Convert indices into list\n",
        "train_set = train.tolist()\n",
        "# Locate drugs and drug info via pd.DataFrame.iloc\n",
        "df_train = df_p3a4.iloc[train_set]\n",
        "print(df_train.shape)\n",
        "df_train.head(2)"
      ]
    },
    {
      "cell_type": "code",
      "execution_count": 12,
      "metadata": {},
      "outputs": [
        {
          "data": {
            "text/plain": [
              "array([11, 13, 17, 22, 26])"
            ]
          },
          "execution_count": 12,
          "metadata": {},
          "output_type": "execute_result"
        }
      ],
      "source": [
        "# Testing set indices\n",
        "test"
      ]
    },
    {
      "cell_type": "code",
      "execution_count": 13,
      "metadata": {},
      "outputs": [
        {
          "name": "stdout",
          "output_type": "stream",
          "text": [
            "(5, 11)\n"
          ]
        },
        {
          "data": {
            "text/html": [
              "<div>\n",
              "<style scoped>\n",
              "    .dataframe tbody tr th:only-of-type {\n",
              "        vertical-align: middle;\n",
              "    }\n",
              "\n",
              "    .dataframe tbody tr th {\n",
              "        vertical-align: top;\n",
              "    }\n",
              "\n",
              "    .dataframe thead th {\n",
              "        text-align: right;\n",
              "    }\n",
              "</style>\n",
              "<table border=\"1\" class=\"dataframe\">\n",
              "  <thead>\n",
              "    <tr style=\"text-align: right;\">\n",
              "      <th></th>\n",
              "      <th>pref_name</th>\n",
              "      <th>cyp_strength_of_evidence</th>\n",
              "      <th>drug_class</th>\n",
              "      <th>adverse_drug_reactions</th>\n",
              "      <th>chembl_id</th>\n",
              "      <th>max_phase</th>\n",
              "      <th>canonical_smiles</th>\n",
              "      <th>rdkit_mol</th>\n",
              "      <th>standard_smiles</th>\n",
              "      <th>fp</th>\n",
              "      <th>butina_cluster</th>\n",
              "    </tr>\n",
              "  </thead>\n",
              "  <tbody>\n",
              "    <tr>\n",
              "      <th>11</th>\n",
              "      <td>SIROLIMUS</td>\n",
              "      <td>strong</td>\n",
              "      <td>immunosuppressant</td>\n",
              "      <td>hypertriglyceridemia^^, hypercholesterolemia^^...</td>\n",
              "      <td>CHEMBL413</td>\n",
              "      <td>4</td>\n",
              "      <td>CO[C@H]1C[C@@H]2CC[C@@H](C)[C@@](O)(O2)C(=O)C(...</td>\n",
              "      <td>&lt;rdkit.Chem.rdchem.Mol object at 0x14365ff40&gt;</td>\n",
              "      <td>CO[C@H]1C[C@@H]2CC[C@@H](C)[C@@](O)(O2)C(=O)C(...</td>\n",
              "      <td>[0, 1, 0, 0, 0, 0, 1, 1, 0, 0, 0, 0, 0, 0, 0, ...</td>\n",
              "      <td>2</td>\n",
              "    </tr>\n",
              "    <tr>\n",
              "      <th>13</th>\n",
              "      <td>DIAZEPAM</td>\n",
              "      <td>mod</td>\n",
              "      <td>benzodiazepines</td>\n",
              "      <td>sedation^^, ataxia^, anterograde_amnesia^, dis...</td>\n",
              "      <td>CHEMBL12</td>\n",
              "      <td>4</td>\n",
              "      <td>CN1C(=O)CN=C(c2ccccc2)c2cc(Cl)ccc21</td>\n",
              "      <td>&lt;rdkit.Chem.rdchem.Mol object at 0x14366c120&gt;</td>\n",
              "      <td>CN1C(=O)CN=C(c2ccccc2)c2cc(Cl)ccc21</td>\n",
              "      <td>[0, 0, 0, 0, 0, 0, 0, 0, 0, 0, 0, 0, 0, 0, 0, ...</td>\n",
              "      <td>12</td>\n",
              "    </tr>\n",
              "  </tbody>\n",
              "</table>\n",
              "</div>"
            ],
            "text/plain": [
              "    pref_name cyp_strength_of_evidence         drug_class  \\\n",
              "11  SIROLIMUS                   strong  immunosuppressant   \n",
              "13   DIAZEPAM                      mod    benzodiazepines   \n",
              "\n",
              "                               adverse_drug_reactions  chembl_id  max_phase  \\\n",
              "11  hypertriglyceridemia^^, hypercholesterolemia^^...  CHEMBL413          4   \n",
              "13  sedation^^, ataxia^, anterograde_amnesia^, dis...   CHEMBL12          4   \n",
              "\n",
              "                                     canonical_smiles  \\\n",
              "11  CO[C@H]1C[C@@H]2CC[C@@H](C)[C@@](O)(O2)C(=O)C(...   \n",
              "13                CN1C(=O)CN=C(c2ccccc2)c2cc(Cl)ccc21   \n",
              "\n",
              "                                        rdkit_mol  \\\n",
              "11  <rdkit.Chem.rdchem.Mol object at 0x14365ff40>   \n",
              "13  <rdkit.Chem.rdchem.Mol object at 0x14366c120>   \n",
              "\n",
              "                                      standard_smiles  \\\n",
              "11  CO[C@H]1C[C@@H]2CC[C@@H](C)[C@@](O)(O2)C(=O)C(...   \n",
              "13                CN1C(=O)CN=C(c2ccccc2)c2cc(Cl)ccc21   \n",
              "\n",
              "                                                   fp  butina_cluster  \n",
              "11  [0, 1, 0, 0, 0, 0, 1, 1, 0, 0, 0, 0, 0, 0, 0, ...               2  \n",
              "13  [0, 0, 0, 0, 0, 0, 0, 0, 0, 0, 0, 0, 0, 0, 0, ...              12  "
            ]
          },
          "execution_count": 13,
          "metadata": {},
          "output_type": "execute_result"
        }
      ],
      "source": [
        "test_set = test.tolist()\n",
        "df_test = df_p3a4.iloc[test_set]\n",
        "print(df_test.shape)\n",
        "df_test.head(2)"
      ]
    },
    {
      "cell_type": "markdown",
      "metadata": {},
      "source": [
        "<br>\n",
        "\n",
        "##### **Set up training and testing sets for X and y variables**\n",
        "\n",
        "This part involves converting X (features) and y (target) variables into either one-hot encodings or vector embeddings, since I'll be dealing with categories/words/ADRs and not numbers, and also to split each X and y variables into training and testing sets. At the very beginning, I've thought about using scikit_learn's train_test_split(), but then realised that I should not need to do this as it's already been done in the previous step (obviously I'm confusing myself again...). Essentially, this step can be integrated with the one-hot encoding and vector embeddings part as shown below.\n",
        "\n",
        "There are three coding issues that have triggered warning messages when I'm trying to figure out how to convert CYP strengths into one-hot encodings:\n",
        "\n",
        "1. A useful [thread](https://github.com/pandas-dev/pandas/issues/57734) has helped me to solve the downcasting issue in pd.DataFrame.replace() when trying to do one-hot encoding to replace the CYP strengths for each drug\n",
        "\n",
        "2. A Pandas setting-with-copy warning shows if using df[\"column_name\"]:\n",
        "\n",
        "> A value is trying to be set on a copy of a slice from a DataFrame. Try using .loc[row_indexer,col_indexer] = value instead\n",
        "\n",
        "The solution is to enable the copy-on-write globally (as commented in the code below; from [Pandas reference](https://pandas.pydata.org/pandas-docs/stable/user_guide/copy_on_write.html#copy-on-write-cow)).\n",
        "\n",
        "3. PyTorch user warning appers if using df_train[\"cyp_strength_of_evidence\"].values, as this leads to non-writable tensors with a warning like this:\n",
        "\n",
        "> UserWarning: The given NumPy array is not writable, and PyTorch does not support non-writable tensors. This means writing to this tensor will result in undefined behavior. You may want to copy the array to protect its data or make it writable before converting it to a tensor. This type of warning will be suppressed for the rest of this program. (Triggered internally at /Users/runner/work/pytorch/pytorch/pytorch/torch/csrc/utils/tensor_numpy.cpp:212.)\n",
        "\n",
        "One of the solutions is to add copy() e.g. col_encoded = one_hot(torch.from_numpy(df[\"column_name\"].values.copy()) % total_numbers_in_column) or alternatively, convert column into numpy array first, then make the numpy array writeable (which is what I've used in the code below)."
      ]
    },
    {
      "cell_type": "code",
      "execution_count": 14,
      "metadata": {},
      "outputs": [
        {
          "data": {
            "text/plain": [
              "tensor([[0, 1],\n",
              "        [0, 1],\n",
              "        [0, 1],\n",
              "        [0, 1],\n",
              "        [0, 1],\n",
              "        [0, 1],\n",
              "        [0, 1],\n",
              "        [0, 1],\n",
              "        [0, 1],\n",
              "        [0, 1],\n",
              "        [0, 1],\n",
              "        [0, 1],\n",
              "        [1, 0],\n",
              "        [1, 0],\n",
              "        [1, 0],\n",
              "        [1, 0],\n",
              "        [1, 0],\n",
              "        [1, 0],\n",
              "        [1, 0],\n",
              "        [1, 0],\n",
              "        [1, 0],\n",
              "        [1, 0]])"
            ]
          },
          "execution_count": 14,
          "metadata": {},
          "output_type": "execute_result"
        }
      ],
      "source": [
        "#| code-fold: true\n",
        "## X_train\n",
        "# 1. Convert \"cyp_strength_of_evidence\" column into one-hot encoding\n",
        "# Enable copy-on-write globally to remove the warning\n",
        "pd.options.mode.copy_on_write = True\n",
        "\n",
        "# Replace CYP strength as numbers\n",
        "with pd.option_context('future.no_silent_downcasting', True):\n",
        "   df_train[\"cyp_strength_of_evidence\"] = df_train[\"cyp_strength_of_evidence\"].replace({\"strong\": 1, \"mod\": 2}).infer_objects()\n",
        "   df_test[\"cyp_strength_of_evidence\"] = df_test[\"cyp_strength_of_evidence\"].replace({\"strong\": 1, \"mod\": 2}).infer_objects()\n",
        "\n",
        "# Get total number of CYP strengths in df\n",
        "total_cyp_str_train = len(set(df_train[\"cyp_strength_of_evidence\"]))\n",
        "\n",
        "# Convert column into numpy array first, then make the numpy array writeable\n",
        "cyp_array_train = df_train[\"cyp_strength_of_evidence\"].to_numpy()\n",
        "cyp_array_train.flags.writeable = True\n",
        "cyp_str_train_t = one_hot(torch.from_numpy(cyp_array_train) % total_cyp_str_train)\n",
        "cyp_str_train_t"
      ]
    },
    {
      "cell_type": "markdown",
      "metadata": {},
      "source": [
        "Without going into too much details about vector embeddings (as there are a lot of useful learning materials about it online and in texts), here's roughly how I understand embeddings while working on this post. Embeddings are real-valued dense vectors that are normally in multi-dimensional arrays and they can represent and catch the context of a word or sentence, the semantic similarity and especially the relation of each word with other words in a corpus of texts. They roughly form the basis of natural language processing and also contribute to how large language models are built... in a very simplified sense, but obviously this can get complex if we want the models to do more. Here, I'm trying something experimental so I'm going to convert each ADR for each drug into embeddings."
      ]
    },
    {
      "cell_type": "code",
      "execution_count": 15,
      "metadata": {},
      "outputs": [
        {
          "data": {
            "text/plain": [
              "tensor([[-1.5256, -0.7502],\n",
              "        [-0.6540, -1.6095],\n",
              "        [-0.1002, -0.6092],\n",
              "        ...,\n",
              "        [-0.5870, -0.2524],\n",
              "        [ 1.3006,  0.2517],\n",
              "        [ 1.4006, -0.7007]], grad_fn=<EmbeddingBackward0>)"
            ]
          },
          "execution_count": 15,
          "metadata": {},
          "output_type": "execute_result"
        }
      ],
      "source": [
        "#| code-fold: true\n",
        "# 2. Convert \"adverse_drug_reactions\" column into embeddings\n",
        "## see separate scripts used previously e.g. words_tensors.py \n",
        "## or Tensors_for_adrs_interactive.py to show step-by-step conversions from words to tensors\n",
        "\n",
        "# Save all ADRs from common ADRs column as a list (joining every row of ADRs in place only)\n",
        "adr_str_train = df_train[\"adverse_drug_reactions\"].tolist()\n",
        "# Join separate rows of strings into one complete string\n",
        "adr_string_train = \",\".join(adr_str_train)\n",
        "# Converting all ADRs into Torch tensors using words_tensors.py\n",
        "from words_tensors import words_tensors\n",
        "adr_train_t = words_tensors(adr_string_train)\n",
        "adr_train_t"
      ]
    },
    {
      "cell_type": "markdown",
      "metadata": {},
      "source": [
        "When trying to convert the \"fp\" column into tensors, there is one coding issue I've found relating to the data split step earlier. Each time the notebook is re-run with the kernel refreshed, the data split will lead to different proportions of training and testing sets due to the \"shuffle = True\", which subsequently leads to different training and testing set arrays. One of the ways to circumvent this is to turn off the shuffle but this is not ideal for model training. So an alternative way that I've tried is to use ndarray.size (which is the product of elements in ndarray.shape, equivalent to multiplying the numbers of rows and columns), and divide the row of the intended tensor shape by 2 as I'm trying to reshape training arrays so they're all in 2 columns in order for [torch.cat()](https://pytorch.org/docs/stable/generated/torch.cat.html#torch-cat) to work later."
      ]
    },
    {
      "cell_type": "code",
      "execution_count": 16,
      "metadata": {},
      "outputs": [
        {
          "data": {
            "text/plain": [
              "torch.Size([22528, 2])"
            ]
          },
          "execution_count": 16,
          "metadata": {},
          "output_type": "execute_result"
        }
      ],
      "source": [
        "#| code-fold: true\n",
        "# 3. Convert \"fp\" column into tensors\n",
        "# Stack numpy arrays in fingerprint column\n",
        "fp_train_array = np.stack(df_train[\"fp\"])\n",
        "# Convert numpy array data type from uint32 to int32\n",
        "fp_train_array = fp_train_array.astype(\"int32\")\n",
        "# Create tensors from array\n",
        "fp_train_t = torch.from_numpy(fp_train_array)\n",
        "# Reshape tensors\n",
        "fp_train_t = torch.reshape(fp_train_t, (int(fp_train_array.size/2), 2))\n",
        "fp_train_t.shape # tensor.ndim to check tensor dimensions"
      ]
    },
    {
      "cell_type": "code",
      "execution_count": 17,
      "metadata": {},
      "outputs": [
        {
          "data": {
            "text/plain": [
              "torch.Size([677, 2])"
            ]
          },
          "execution_count": 17,
          "metadata": {},
          "output_type": "execute_result"
        }
      ],
      "source": [
        "adr_train_t.shape"
      ]
    },
    {
      "cell_type": "code",
      "execution_count": 18,
      "metadata": {},
      "outputs": [
        {
          "data": {
            "text/plain": [
              "torch.Size([22, 2])"
            ]
          },
          "execution_count": 18,
          "metadata": {},
          "output_type": "execute_result"
        }
      ],
      "source": [
        "cyp_str_train_t.shape"
      ]
    },
    {
      "cell_type": "code",
      "execution_count": 19,
      "metadata": {},
      "outputs": [
        {
          "data": {
            "text/plain": [
              "tensor([[-1.5256, -0.7502],\n",
              "        [-0.6540, -1.6095],\n",
              "        [-0.1002, -0.6092],\n",
              "        ...,\n",
              "        [ 1.0000,  0.0000],\n",
              "        [ 1.0000,  0.0000],\n",
              "        [ 1.0000,  0.0000]], grad_fn=<CatBackward0>)"
            ]
          },
          "execution_count": 19,
          "metadata": {},
          "output_type": "execute_result"
        }
      ],
      "source": [
        "# Concatenate adr tensors, fingerprint tensors and cyp strength tensors as X_train\n",
        "X_train = torch.cat([adr_train_t, fp_train_t, cyp_str_train_t], 0).float()\n",
        "X_train"
      ]
    },
    {
      "cell_type": "markdown",
      "metadata": {},
      "source": [
        "X_test is being set up similarly as shown below."
      ]
    },
    {
      "cell_type": "code",
      "execution_count": 20,
      "metadata": {},
      "outputs": [
        {
          "data": {
            "text/plain": [
              "tensor([[0., 1.],\n",
              "        [1., 0.],\n",
              "        [1., 0.],\n",
              "        ...,\n",
              "        [0., 0.],\n",
              "        [0., 0.],\n",
              "        [0., 0.]], grad_fn=<CatBackward0>)"
            ]
          },
          "execution_count": 20,
          "metadata": {},
          "output_type": "execute_result"
        }
      ],
      "source": [
        "#| code-fold: true\n",
        "## X_test\n",
        "# 1. Convert \"cyp_strength_of_evidence\" into one-hot encodings\n",
        "total_cyp_str_test = len(set(df_test[\"cyp_strength_of_evidence\"]))\n",
        "array_test = df_test[\"cyp_strength_of_evidence\"].to_numpy()\n",
        "array_test.flags.writeable = True\n",
        "cyp_str_test_t = one_hot(torch.from_numpy(array_test) % total_cyp_str_test)\n",
        "\n",
        "# 2. Convert \"adverse_drug_reactions\" column into embeddings\n",
        "adr_str_test = df_test[\"adverse_drug_reactions\"].tolist()\n",
        "adr_string_test = \",\".join(adr_str_test)\n",
        "adr_test_t = words_tensors(adr_string_test)\n",
        "\n",
        "# 3. Convert \"fp\" column into tensors\n",
        "fp_test_array = np.stack(df_test[\"fp\"])\n",
        "fp_test_array = fp_test_array.astype(\"int32\")\n",
        "fp_test_t = torch.from_numpy(fp_test_array)\n",
        "fp_test_t = torch.reshape(fp_test_t, (int(fp_test_array.size/2),2))\n",
        "\n",
        "# Concatenate adr tensors, drug class tensors and cyp strength tensors as X_test\n",
        "X_test = torch.cat([cyp_str_test_t, adr_test_t, fp_test_t], 0).float()\n",
        "X_test"
      ]
    },
    {
      "cell_type": "markdown",
      "metadata": {},
      "source": [
        "This is followed by setting up y_train."
      ]
    },
    {
      "cell_type": "code",
      "execution_count": 21,
      "metadata": {},
      "outputs": [
        {
          "data": {
            "text/plain": [
              "tensor([[ 1.5019, -0.2547]], grad_fn=<EmbeddingBackward0>)"
            ]
          },
          "execution_count": 21,
          "metadata": {},
          "output_type": "execute_result"
        }
      ],
      "source": [
        "#| code-fold: true\n",
        "## y_train\n",
        "# Use drug_class column as target\n",
        "# Convert \"drug_class\" column into embeddings \n",
        "# total number of drug classes in df = 20 - len(set(df[\"drug_class\"])) - using embeddings instead of one-hot\n",
        "dc_str_train = df_train[\"drug_class\"].tolist()\n",
        "dc_string_train = \",\".join(dc_str_train)\n",
        "y_train = words_tensors(dc_string_train)\n",
        "y_train"
      ]
    },
    {
      "cell_type": "markdown",
      "metadata": {},
      "source": [
        "Lastly, y_test is being specified."
      ]
    },
    {
      "cell_type": "code",
      "execution_count": 22,
      "metadata": {},
      "outputs": [
        {
          "data": {
            "text/plain": [
              "tensor([[0.8392, 1.7442]], grad_fn=<EmbeddingBackward0>)"
            ]
          },
          "execution_count": 22,
          "metadata": {},
          "output_type": "execute_result"
        }
      ],
      "source": [
        "#| code-fold: true\n",
        "## y_test\n",
        "# Convert \"drug_class\" column into embeddings \n",
        "dc_str_test = df_test[\"drug_class\"].tolist()\n",
        "dc_string_test = \",\".join(dc_str_test)\n",
        "y_test = words_tensors(dc_string_test)\n",
        "y_test"
      ]
    },
    {
      "cell_type": "markdown",
      "metadata": {},
      "source": [
        "<br>\n",
        "\n",
        "##### **Input preprocessing pipeline using PyTorch Dataset and DataLoader**\n",
        "\n",
        "There is a size-mismatch-between-tensors warning when I'm trying to use PyTorch's TensorDataset(). I've found out that to use the data loader and tensor dataset, the first dimension of all tensors needs to be the same. Initially, they're not, where X_train.shape = [24313, 2], y_train.shape = [1, 2]. Eventually I've settled on two ways that can help with this: \n",
        "\n",
        "- use tensor.unsqueeze(dim = 1) or \n",
        "\n",
        "- use tensor[None] which'll insert a new dimension at the beginning, then it becomes: X_train.shape = [1, 24313, 2], y_train.shape = [1, 1, 2]"
      ]
    },
    {
      "cell_type": "code",
      "execution_count": 23,
      "metadata": {},
      "outputs": [
        {
          "data": {
            "text/plain": [
              "torch.Size([1, 23227, 2])"
            ]
          },
          "execution_count": 23,
          "metadata": {},
          "output_type": "execute_result"
        }
      ],
      "source": [
        "X_train[None].shape"
      ]
    },
    {
      "cell_type": "code",
      "execution_count": 24,
      "metadata": {},
      "outputs": [
        {
          "data": {
            "text/plain": [
              "torch.Size([23227, 2])"
            ]
          },
          "execution_count": 24,
          "metadata": {},
          "output_type": "execute_result"
        }
      ],
      "source": [
        "X_train.shape"
      ]
    },
    {
      "cell_type": "code",
      "execution_count": 25,
      "metadata": {},
      "outputs": [
        {
          "data": {
            "text/plain": [
              "torch.Size([1, 1, 2])"
            ]
          },
          "execution_count": 25,
          "metadata": {},
          "output_type": "execute_result"
        }
      ],
      "source": [
        "y_train[None].shape"
      ]
    },
    {
      "cell_type": "code",
      "execution_count": 26,
      "metadata": {},
      "outputs": [
        {
          "data": {
            "text/plain": [
              "torch.Size([1, 2])"
            ]
          },
          "execution_count": 26,
          "metadata": {},
          "output_type": "execute_result"
        }
      ],
      "source": [
        "y_train.shape"
      ]
    },
    {
      "cell_type": "code",
      "execution_count": 27,
      "metadata": {},
      "outputs": [],
      "source": [
        "# Create a PyTorch dataset on training data set\n",
        "train_data = TensorDataset(X_train[None], y_train[None])\n",
        "# Sets a seed number to generate random numbers\n",
        "torch.manual_seed(1)\n",
        "batch_size = 1\n",
        "\n",
        "# Create a dataset loader\n",
        "train_dl = DataLoader(train_data, batch_size, shuffle = True)"
      ]
    },
    {
      "cell_type": "code",
      "execution_count": 28,
      "metadata": {},
      "outputs": [],
      "source": [
        "# Create another PyTorch dataset on testing data set\n",
        "test_data = TensorDataset(X_test[None], y_test[None])\n",
        "torch.manual_seed(1)\n",
        "batch_size = 1\n",
        "test_dl = DataLoader(test_data, batch_size, shuffle=True)"
      ]
    },
    {
      "cell_type": "markdown",
      "metadata": {},
      "source": [
        "<br>\n",
        "\n",
        "##### **Set up a simple DNN regression model** \n",
        "\n",
        "I'm only going to use a very simple two-layer DNN model to match the tiny dataset used here. There are many other types of neural network layers or bits and pieces that can be used to suit the goals and purposes of the dataset used. This [reference link](https://pytorch.org/docs/stable/nn.html) shows different types of neural network layers that can be used in PyTorch.\n",
        "\n",
        "Below are some short notes regarding a neural network (NN) model:\n",
        " \n",
        "- goal of the model is to minimise loss function L(W) (where W = weight) to get the optimal model weights\n",
        "\n",
        "- matrix with W (for hidden layer) connects input to hidden layer; matrix with W (for outer layer) connects hidden to output layer\n",
        "\n",
        "- *Input layer* -> activation function of hidden layer -> *hidden layer* -> activation function of output layer -> *output layer* (a very-simplified flow diagram to show how the layers get connected to each other)\n",
        "\n",
        "\n",
        "About backpropagation for loss function:\n",
        "\n",
        "- backpropagation is a computationally efficient way to calculate partial derivatives of loss function to update weights in multi-layer NNs\n",
        "\n",
        "- it's based on calculus chain rule to compute derivatives of mathematical functions (automatic differentiation)\n",
        "\n",
        "- matrix-vector multiplications in backpropagation are computationally more efficient to calculate than matrix-matrix multiplications e.g. forward propagation\n",
        "\n",
        "Note: there are also [other types of activation functions available](https://pytorch.org/docs/stable/nn.functional.html#non-linear-activation-functions) to use in PyTorch."
      ]
    },
    {
      "cell_type": "code",
      "execution_count": 29,
      "metadata": {},
      "outputs": [
        {
          "data": {
            "text/plain": [
              "Sequential(\n",
              "  (0): Linear(in_features=2, out_features=6, bias=True)\n",
              "  (1): ReLU()\n",
              "  (2): Linear(in_features=6, out_features=3, bias=True)\n",
              "  (3): ReLU()\n",
              "  (4): Linear(in_features=3, out_features=1, bias=True)\n",
              ")"
            ]
          },
          "execution_count": 29,
          "metadata": {},
          "output_type": "execute_result"
        }
      ],
      "source": [
        "#| code-fold: true\n",
        "# note: this is a very simple two-layer NN model only\n",
        "\n",
        "# Set up hidden units between two connected layers - one layer with 6 hidden units and the other with 3 hidden units\n",
        "hidden_units = [6, 3]\n",
        "# Input size same as number of columns in X_train\n",
        "input_size = X_train.shape[1]\n",
        "# Initiate NN layers as a list\n",
        "all_layers = []\n",
        "\n",
        "## Specify how the input, hidden and output layers are going to be connected\n",
        "# For each hidden unit within the hidden units specified above:\n",
        "for h_unit in hidden_units:\n",
        "    # specify sizes of input sample (input size = X_train col size) & output sample (hidden units) in each layer\n",
        "    # https://pytorch.org/docs/stable/generated/torch.nn.Linear.html#torch.nn.Linear\n",
        "    layer = nn.Linear(input_size, h_unit)\n",
        "    # add each layer\n",
        "    all_layers.append(layer)\n",
        "    # add activation function (trying rectified linear unit) for next layer\n",
        "    all_layers.append(nn.ReLU())\n",
        "    # for the next layer to be added, the input size will be the same size as the hidden unit\n",
        "    input_size = h_unit\n",
        "\n",
        "# Specify the last layer (where input_feature = hidden_units[-1] = 3)\n",
        "all_layers.append(nn.Linear(hidden_units[-1], 1))\n",
        "\n",
        "# Set up a container that'll connect all layers in the specified sequence in the model\n",
        "model = nn.Sequential(*all_layers)\n",
        "model"
      ]
    },
    {
      "cell_type": "markdown",
      "metadata": {},
      "source": [
        "<br>\n",
        "\n",
        "##### **Train model**\n",
        "\n",
        "This part is mainly about defining the loss function when training the model with the training data, and optimising model by using a stochastic gradient descent. One key thing I've gathered from trying to learn about deep learning is that we're aiming for global minima and not local minima (e.g. if learning rate is too small, this may end up with local minima; if learning rate is too large, it may end up over-estimating the global minima). I've also encountered the PyTorch padding method to make sure the input and target tensors are of the same size, otherwise the model will run into matrix broadcasting issue (which will likely influence the results). The training loss appears to have converged when the epoch runs reach 100 and/or after (note this may vary due to shuffle data sampling)... (I also think my data size is way too small to show a clear contrast in training loss convergence).\n",
        "\n",
        "References for: [nn.MSELoss()](https://pytorch.org/docs/stable/generated/torch.nn.MSELoss.html#torch.nn.MSELoss) - measures mean squared error between X and y, and [nn.functional.pad()](https://pytorch.org/docs/stable/generated/torch.nn.functional.pad.html#torch.nn.functional.pad) - pads tensor (increase tensor size) \n",
        "\n",
        "Obtaining training loss via model training:"
      ]
    },
    {
      "cell_type": "code",
      "execution_count": 30,
      "metadata": {},
      "outputs": [
        {
          "name": "stdout",
          "output_type": "stream",
          "text": [
            "Epoch 0 Loss 1.2967\n",
            "Epoch 20 Loss 1.2425\n",
            "Epoch 40 Loss 1.2088\n",
            "Epoch 60 Loss 1.1876\n",
            "Epoch 80 Loss 1.1715\n",
            "Epoch 100 Loss 1.1594\n",
            "Epoch 120 Loss 1.1505\n",
            "Epoch 140 Loss 1.1440\n",
            "Epoch 160 Loss 1.1394\n",
            "Epoch 180 Loss 1.1361\n"
          ]
        }
      ],
      "source": [
        "#| code-fold: true\n",
        "# Set up loss function\n",
        "loss_f = nn.MSELoss()\n",
        "# Set up stochastic gradient descent optimiser to optimise model (minimise loss) during training \n",
        "# lr = learning rate - default: 0.049787 (1*e^-3)\n",
        "optim = torch.optim.SGD(model.parameters(), lr=0.005)\n",
        "# Set training epochs (epoch: each cycle of training or passing through the training set)\n",
        "num_epochs = 200\n",
        "# Set the log output to show training loss - for every 20 epochs\n",
        "log_epochs = 20\n",
        "torch.manual_seed(1)\n",
        "# Create empty lists to save training loss (for training and testing/validation sets)\n",
        "train_epoch_loss = []\n",
        "test_epoch_loss = []\n",
        "\n",
        "#  Predict via training X_batch & obtain train loss via loss function from X_batch & y_batch\n",
        "for epoch in range(num_epochs):\n",
        "    train_loss = 0\n",
        "    for X_batch, y_batch in train_dl:\n",
        "        # Make predictions\n",
        "        predict = model(X_batch)[:, 0]\n",
        "        # Make input tensors the same size as y_batch tensors\n",
        "        predict_pad = F.pad(predict[None], pad=(1, 0, 0, 0))\n",
        "        # Calculate training loss\n",
        "        loss = loss_f(predict_pad, y_batch)\n",
        "        # Calculate gradients (backpropagations)\n",
        "        loss.backward(retain_graph=True)\n",
        "        # Update parameters using gradients\n",
        "        optim.step()\n",
        "        # Reset gradients back to zero\n",
        "        optim.zero_grad()\n",
        "        train_loss += loss.item()\n",
        "    \n",
        "    if epoch % log_epochs == 0:\n",
        "        print(f\"Epoch {epoch} Loss {train_loss/len(train_dl):.4f}\")\n",
        "\n",
        "    train_epoch_loss.append(train_loss)"
      ]
    },
    {
      "cell_type": "markdown",
      "metadata": {},
      "source": [
        "Obtaining test or validation loss:"
      ]
    },
    {
      "cell_type": "code",
      "execution_count": 31,
      "metadata": {},
      "outputs": [
        {
          "name": "stdout",
          "output_type": "stream",
          "text": [
            "Epoch 0 Loss 1.9738\n",
            "Epoch 20 Loss 1.3766\n",
            "Epoch 40 Loss 0.9958\n",
            "Epoch 60 Loss 0.7492\n",
            "Epoch 80 Loss 0.5919\n",
            "Epoch 100 Loss 0.4916\n",
            "Epoch 120 Loss 0.4275\n",
            "Epoch 140 Loss 0.3901\n",
            "Epoch 160 Loss 0.3702\n",
            "Epoch 180 Loss 0.3603\n"
          ]
        }
      ],
      "source": [
        "#| code-fold: true\n",
        "# Predict via testing X_batch & obtain test loss \n",
        "for epoch in range(num_epochs):\n",
        "    test_loss = 0\n",
        "    for X_batch, y_batch in test_dl:\n",
        "        # Make predictions\n",
        "        predict_test = model(X_batch)[:, 0]\n",
        "        # Make input tensors the same size as y_batch tensors\n",
        "        predict_pad_test = F.pad(predict_test[None], pad=(1, 0, 0, 0))\n",
        "        # Calculate training loss\n",
        "        loss = loss_f(predict_pad_test, y_batch)\n",
        "        # Calculate gradients (backpropagations)\n",
        "        loss.backward(retain_graph=True)\n",
        "        # Update parameters using gradients\n",
        "        optim.step()\n",
        "        # Reset gradients back to zero\n",
        "        optim.zero_grad()\n",
        "        test_loss += loss.item()\n",
        "    \n",
        "    if epoch % log_epochs == 0:\n",
        "        print(f\"Epoch {epoch} Loss {test_loss/len(test_dl):.4f}\")\n",
        "\n",
        "    test_epoch_loss.append(test_loss)"
      ]
    },
    {
      "cell_type": "markdown",
      "metadata": {},
      "source": [
        "<br>\n",
        "\n",
        "##### **Evaluate model**\n",
        "\n",
        "Showing train and test losses over training epochs in a plot:"
      ]
    },
    {
      "cell_type": "code",
      "execution_count": 32,
      "metadata": {},
      "outputs": [
        {
          "data": {
            "text/plain": [
              "<function matplotlib.pyplot.show(close=None, block=None)>"
            ]
          },
          "execution_count": 32,
          "metadata": {},
          "output_type": "execute_result"
        },
        {
          "data": {
            "image/png": "[encoded data removed]",
            "text/plain": [
              "<Figure size 640x480 with 1 Axes>"
            ]
          },
          "metadata": {},
          "output_type": "display_data"
        }
      ],
      "source": [
        "#| code-fold: true\n",
        "plt.plot(train_epoch_loss, label=\"train_loss\")\n",
        "plt.plot(test_epoch_loss, label=\"test_loss\")\n",
        "plt.xlabel(\"Epochs\")\n",
        "plt.ylabel(\"Loss\")\n",
        "plt.legend()\n",
        "plt.show"
      ]
    },
    {
      "cell_type": "markdown",
      "metadata": {},
      "source": [
        "At the moment, when this notebook is re-run on a refreshed kernel, this leads to a different train and test split each time, and also leading to a different train and test (validation) loss each time. There may be two types of scenarios shown in the plot above where:\n",
        "\n",
        "- test loss is higher than train loss (overfitting) - showing the model may be way too simplified and is likely under-trained\n",
        "- train loss is higher than test loss (underfitting) - showing that the model may not have been trained well, and is unable to learn the features in the training data and apply them to the test data\n",
        "\n",
        "When there are actually more training data available with also other hyperparameters fine tuned, it may be possible to see another scenario where both test loss and train loss are very similar in trend, meaning the model is being trained well and able to generalise the training to the unseen data. \n",
        "\n",
        "To mitigate overfitting: \n",
        "\n",
        "- firstly there should be more training data than what I've had here\n",
        "\n",
        "- use L1 or L2 regularisation to minimise model complexity by adding penalities to large weights\n",
        "\n",
        "- use early stopping during model training to stop training the model when test loss is becoming higher than the train loss\n",
        "\n",
        "- use [torch.nn.Dropout()](https://pytorch.org/docs/stable/generated/torch.nn.Dropout.html) to randomly drop out some of the neurons to ensure the exisiting neurons will learn features without being too reliant on other neighbouring neurons in the network\n",
        "\n",
        "- *I'll try the early stopping or drop out method in future posts since current post is relatively long already...*\n",
        "\n",
        "To overcome underfitting:\n",
        "\n",
        "- increase training epochs\n",
        "- minimise regularisation\n",
        "- consider building a more complex or deeper neural network model\n",
        "\n",
        "I'm trying to keep this post simple so have only used mean squared error (MSE) and mean absolute error (MAE) to evaluate the model which has made a prediction on the test set. The smaller the MSE, the less error the model has when making predictions. However this is not the only metric that will determine if a model is optimal for predictions, as I've also noticed that every time there's a different train and test split, the MAE and MSE values will vary too, so it appears that some splits will generate smaller MSE and other splits will lead to larger MSE."
      ]
    },
    {
      "cell_type": "code",
      "execution_count": 33,
      "metadata": {},
      "outputs": [
        {
          "name": "stdout",
          "output_type": "stream",
          "text": [
            "MSE for test set: 1.2323\n",
            "MAE for test set: 1.0726\n"
          ]
        }
      ],
      "source": [
        "#| code-fold: true\n",
        "# torch.no_grad() - disable gradient calculations to reduce memory usage for inference (also like a decorator)\n",
        "with torch.no_grad():\n",
        "    predict_test = model(X_test.float())[:, 0]\n",
        "    # Padding target tensor with set size of [(1, 2)] as input tensor size will vary \n",
        "    # when notebook is re-run each time due to butina split with sample shuffling\n",
        "    # so need to pad the target tensor accordingly\n",
        "    y_test_pad = F.pad(y_test, pad=(predict_test[None].shape[1] - y_test.shape[1], 0, 0, 0))\n",
        "    loss_new = loss_f(predict_test[None], y_test_pad)\n",
        "    print(f\"MSE for test set: {loss_new.item():.4f}\")\n",
        "    print(f\"MAE for test set: {nn.L1Loss()(predict_test[None], y_test_pad).item():.4f}\")"
      ]
    },
    {
      "cell_type": "markdown",
      "metadata": {},
      "source": [
        "<br>\n",
        "\n",
        "##### **Save model**\n",
        "\n",
        "One way to save the model is like below."
      ]
    },
    {
      "cell_type": "code",
      "execution_count": 34,
      "metadata": {},
      "outputs": [
        {
          "data": {
            "text/plain": [
              "Sequential(\n",
              "  (0): Linear(in_features=2, out_features=6, bias=True)\n",
              "  (1): ReLU()\n",
              "  (2): Linear(in_features=6, out_features=3, bias=True)\n",
              "  (3): ReLU()\n",
              "  (4): Linear(in_features=3, out_features=1, bias=True)\n",
              ")"
            ]
          },
          "execution_count": 34,
          "metadata": {},
          "output_type": "execute_result"
        }
      ],
      "source": [
        "path = \"adr_regressor.pt\"\n",
        "torch.save(model, path)\n",
        "model_reload = torch.load(path)\n",
        "model_reload.eval()"
      ]
    },
    {
      "cell_type": "markdown",
      "metadata": {},
      "source": [
        "<br>\n",
        "\n",
        "##### **Reload model**\n",
        "\n",
        "The saved model is reloaded below with a check to make sure the reloaded version is the same as the saved version.\n",
        "\n",
        "References for: [torch.max](https://pytorch.org/docs/stable/generated/torch.max.html#torch.max) and [torch.argmax](https://pytorch.org/docs/stable/generated/torch.argmax.html#torch-argmax)"
      ]
    },
    {
      "cell_type": "code",
      "execution_count": 35,
      "metadata": {},
      "outputs": [
        {
          "name": "stdout",
          "output_type": "stream",
          "text": [
            "Test accuracy: 0.9996\n"
          ]
        }
      ],
      "source": [
        "pred_reload = model_reload(X_test)\n",
        "y_test_rel_pad = F.pad(y_test, pad=(pred_reload[None].shape[1] - y_test.shape[1], 0, 0, 0))\n",
        "correct = (torch.argmax(pred_reload, dim=1) == y_test_rel_pad).float()\n",
        "accuracy = correct.mean()\n",
        "print(f\"Test accuracy: {accuracy:.4f}\")"
      ]
    },
    {
      "cell_type": "markdown",
      "metadata": {},
      "source": [
        "<br>\n",
        "\n",
        "A few things to consider in the end:\n",
        "\n",
        "- I haven't done feature standardisation for X_train which is to centre X_train mean and divide by its standard deviation, code may be like this, X_train_normalised = (X_train - np.mean(X_train))/np.std(X_train) (if used on training data, need to apply this to testing data too)\n",
        "\n",
        "- Training features are certainly too small, however, the main goal of this very first post is to get an overall idea of how to construct a baseline DNN regression model. There are lots of other things that can be done to the ADRs data e.g. adding more drug molecular features and properties. I have essentially only used the initial molecular fingerprints generated when doing the data split to add a bit of molecular aspect in the training dataset.\n",
        "\n",
        "- I haven't taken into account the frequencies of words (e.g. same drug classes and same ADR terms across different drugs) in the training and testing data, however, the aim of this first piece of work is also not a semantic analysis in natural language processing so this might not be needed...\n",
        "\n",
        "- There may be other PyTorch functions that I do not yet know about that will deal with small datasets e.g. perhaps [torch.sparse](https://pytorch.org/docs/stable/sparse.html) may be useful?... so this piece is certainly not the only way to do it, but one of the many ways to work with small data\n",
        "\n",
        "<br>\n",
        "\n",
        "##### **Acknowledgements**\n",
        "\n",
        "I'm very thankful for the existence of these references, websites and reviewer below which have helped me understand (or scratch a small surface of) deep learning and also solve the coding issues mentioned in this post:\n",
        "\n",
        "- [PyTorch forums](https://discuss.pytorch.org/)\n",
        "\n",
        "- [Stack Overflow](https://stackoverflow.com/)\n",
        "\n",
        "- Raschka, Sebastian, Yuxi (Hayden) Liu, and Vahid Mirjalili. 2022. Machine Learning with PyTorch and Scikit-Learn. Birmingham, UK: Packt Publishing. \n",
        "\n",
        "- [Noel O'Boyle](https://baoilleach.blogspot.com) for feedback on this post\n"
      ]
    }
  ],
  "metadata": {
    "kernelspec": {
      "display_name": "Adverse_drug_reactions",
      "language": "python",
      "name": "python3"
    },
    "language_info": {
      "codemirror_mode": {
        "name": "ipython",
        "version": 3
      },
      "file_extension": ".py",
      "mimetype": "text/x-python",
      "name": "python",
      "nbconvert_exporter": "python",
      "pygments_lexer": "ipython3",
      "version": "3.12.7"
    }
  },
  "nbformat": 4,
  "nbformat_minor": 4
}
