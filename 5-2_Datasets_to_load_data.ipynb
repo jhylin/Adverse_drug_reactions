{
 "cells": [
  {
   "cell_type": "markdown",
   "id": "9b44a4c1",
   "metadata": {},
   "source": [
    "This draft notebook will likely be looking at how to use the [datasets](https://pypi.org/project/datasets/) package to load data such as texts, or other ways to load data in order to integrate with the ML/DL pipeline."
   ]
  },
  {
   "cell_type": "code",
   "execution_count": null,
   "id": "143ca0be",
   "metadata": {},
   "outputs": [],
   "source": [
    "## Using pickle to load file\n",
    "## load cyp3a4 substrates adrs in texts\n",
    "\n",
    "# import pickle\n",
    "# with open(\"cyp3a4_adrs\", \"rb\") as adrs:\n",
    "#     cyp3a4_subs_adrs = pickle.load(adrs)\n",
    "\n",
    "# cyp3a4_subs_adrs"
   ]
  },
  {
   "cell_type": "code",
   "execution_count": null,
   "id": "a9376157",
   "metadata": {},
   "outputs": [],
   "source": [
    "## Try writing cyp3a4 ADRs into text file\n",
    "# with open(\"cyp3a4_adrs\", \"w\") as file:\n",
    "#     file.write(str(cyp3a4_subs_adrs))"
   ]
  },
  {
   "cell_type": "code",
   "execution_count": null,
   "id": "91136539",
   "metadata": {},
   "outputs": [],
   "source": [
    "## Writing cyp substrates ADRs into a separate text file\n",
    "# cyp_adrs = list(df[\"adverse_drug_reactions\"])\n",
    "# cyp_adrs\n",
    "\n",
    "# with open(\"cyp_adrs.csv\", \"w\") as file:\n",
    "#     file.write(str(cyp_adrs))"
   ]
  },
  {
   "cell_type": "code",
   "execution_count": null,
   "id": "8616b0d3",
   "metadata": {},
   "outputs": [],
   "source": [
    "## Hmm... learning re. datasets package... can load dataset from pandas\n",
    "## datasets package reference link - https://huggingface.co/docs/datasets/index\n",
    "\n",
    "# import pandas as pd\n",
    "# df = pd.read_csv(\"Data/cyp_substrates_adrs.csv\")\n",
    "# df"
   ]
  },
  {
   "cell_type": "code",
   "execution_count": null,
   "id": "23c4e377",
   "metadata": {},
   "outputs": [],
   "source": [
    "## loading directly from pandas df\n",
    "\n",
    "# from datasets import load_dataset, Dataset\n",
    "# dataset = Dataset.from_pandas(df)\n",
    "# dataset"
   ]
  }
 ],
 "metadata": {
  "kernelspec": {
   "display_name": ".venv",
   "language": "python",
   "name": "python3"
  },
  "language_info": {
   "codemirror_mode": {
    "name": "ipython",
    "version": 3
   },
   "file_extension": ".py",
   "mimetype": "text/x-python",
   "name": "python",
   "nbconvert_exporter": "python",
   "pygments_lexer": "ipython3",
   "version": "3.12.7"
  }
 },
 "nbformat": 4,
 "nbformat_minor": 5
}
