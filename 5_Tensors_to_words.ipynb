{
 "cells": [
  {
   "cell_type": "code",
   "execution_count": 1,
   "id": "e2d95e00",
   "metadata": {},
   "outputs": [
    {
     "name": "stdout",
     "output_type": "stream",
     "text": [
      "Pandas version used: 2.2.3\n",
      "PyTorch version used: 2.2.2\n",
      "NumPy version used: 1.26.4\n",
      "Python version used: 3.12.7 (main, Oct 16 2024, 09:10:10) [Clang 18.1.8 ]\n"
     ]
    }
   ],
   "source": [
    "import pandas as pd\n",
    "import torch\n",
    "import torch.nn as nn\n",
    "import torch.nn.functional as F\n",
    "from torch.nn.functional import one_hot\n",
    "from torch.utils.data import TensorDataset, DataLoader\n",
    "import numpy as np\n",
    "# import datamol as dm\n",
    "# import rdkit\n",
    "# from rdkit import Chem\n",
    "# from rdkit.Chem import rdFingerprintGenerator\n",
    "# import useful_rdkit_utils as uru\n",
    "import sys\n",
    "from matplotlib import pyplot as plt\n",
    "print(f\"Pandas version used: {pd.__version__}\")\n",
    "print(f\"PyTorch version used: {torch.__version__}\")\n",
    "print(f\"NumPy version used: {np.__version__}\")\n",
    "#print(f\"RDKit version used: {rdkit.__version__}\")\n",
    "print(f\"Python version used: {sys.version}\")"
   ]
  },
  {
   "cell_type": "code",
   "execution_count": 2,
   "id": "ea051933",
   "metadata": {},
   "outputs": [
    {
     "data": {
      "text/plain": [
       "tensor([1., 2.])"
      ]
     },
     "execution_count": 2,
     "metadata": {},
     "output_type": "execute_result"
    }
   ],
   "source": [
    "# PyTorch example re. saving & reloading tensors\n",
    "t = torch.tensor([1., 2.])\n",
    "torch.save(t, 'tensor.pt')\n",
    "ts = torch.load('tensor.pt')\n",
    "ts"
   ]
  },
  {
   "cell_type": "code",
   "execution_count": 3,
   "id": "4dc2e5b9",
   "metadata": {},
   "outputs": [
    {
     "data": {
      "text/plain": [
       "tensor([[-1.5256, -0.7502],\n",
       "        [-0.6540, -1.6095],\n",
       "        [-0.1002, -0.6092],\n",
       "        ...,\n",
       "        [ 0.8748,  0.9873],\n",
       "        [-0.7102,  2.8641],\n",
       "        [ 1.1651,  2.0154]], requires_grad=True)"
      ]
     },
     "execution_count": 3,
     "metadata": {},
     "output_type": "execute_result"
    }
   ],
   "source": [
    "# Load adrs tensors from 2_ADR_regressor.ipynb after it's saved (from 2_ADR_regressor_save_tensors.ipynb)\n",
    "adrs_ts = torch.load(\"adr_train_tensors.pt\")\n",
    "adrs_ts"
   ]
  },
  {
   "cell_type": "code",
   "execution_count": null,
   "id": "21e3dd2f",
   "metadata": {},
   "outputs": [],
   "source": [
    "# Plan\n",
    "# If wanting to use tokenizer.decode(), likely may need to build a tokenization/tokenizer model first...?\n",
    "\n",
    "# consider trying HuggingFace's transformers:\n",
    "# 1. Set up tokenizer model that will tokenize the ADRs/words\n",
    "# 2. Apply tokenizer.decode() function to each tensor row/sequence (via using list comprehension)\n",
    "# 3. Use sample code snippet below to decode tensors: \n",
    "# decoded = [tokenizer.decode(x) for x in adrs_ts]\n",
    "# the code will iterate through each row/sequence of tensors and apply the decode() method \n",
    "# which'll transform the numerical IDs back into human-readable texts/words\n",
    "\n",
    "# other methods that may be useful:\n",
    "# convert_ids_to_tokens - converts numerical IDs back into corresponding token identifiers\n",
    "# convert_tokens_to_string - merges sub-word tokens into complete words if needed"
   ]
  },
  {
   "cell_type": "code",
   "execution_count": 5,
   "id": "8ffd97f0",
   "metadata": {},
   "outputs": [],
   "source": [
    "# may need to also use/integrate code with tokenizers package? (https://pypi.org/project/tokenizers/)"
   ]
  }
 ],
 "metadata": {
  "kernelspec": {
   "display_name": ".venv",
   "language": "python",
   "name": "python3"
  },
  "language_info": {
   "codemirror_mode": {
    "name": "ipython",
    "version": 3
   },
   "file_extension": ".py",
   "mimetype": "text/x-python",
   "name": "python",
   "nbconvert_exporter": "python",
   "pygments_lexer": "ipython3",
   "version": "3.12.7"
  }
 },
 "nbformat": 4,
 "nbformat_minor": 5
}
