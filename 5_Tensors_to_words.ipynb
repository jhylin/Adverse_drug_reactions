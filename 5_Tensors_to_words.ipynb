{
 "cells": [
  {
   "cell_type": "markdown",
   "id": "9ec3a4fa",
   "metadata": {},
   "source": [
    "*This is currently still a draft which means it's very messy at the moment!*"
   ]
  },
  {
   "cell_type": "markdown",
   "id": "b5e436ec",
   "metadata": {},
   "source": [
    "This notebook will likely be more about using transformers package to tokenize training data. A separate notebook (5-1_Tokenizers_to_tokenise_texts.ipynb) has been prepared to show how to use tokenizers package to tokenise/encode and decode text data or ADR terms.\n",
    "\n",
    "Reference links: \n",
    "* https://huggingface.co/learn/llm-course/chapter2/4?fw=pt#tokenization\n",
    "* https://huggingface.co/docs/datasets/use_dataset#tokenize-text"
   ]
  },
  {
   "cell_type": "code",
   "execution_count": null,
   "id": "e2d95e00",
   "metadata": {},
   "outputs": [
    {
     "name": "stdout",
     "output_type": "stream",
     "text": [
      "Python version used: 3.12.7 (main, Oct 16 2024, 09:10:10) [Clang 18.1.8 ]\n"
     ]
    }
   ],
   "source": [
    "# import pandas as pd\n",
    "# import torch\n",
    "# import torch.nn as nn\n",
    "# import torch.nn.functional as F\n",
    "# from torch.nn.functional import one_hot\n",
    "# from torch.utils.data import TensorDataset, DataLoader\n",
    "# import numpy as np\n",
    "# import datamol as dm\n",
    "# import rdkit\n",
    "# from rdkit import Chem\n",
    "# from rdkit.Chem import rdFingerprintGenerator\n",
    "# import useful_rdkit_utils as uru\n",
    "import sys, datetime\n",
    "# from matplotlib import pyplot as plt\n",
    "\n",
    "# print(f\"Pandas version used: {pd.__version__}\")\n",
    "# print(f\"PyTorch version used: {torch.__version__}\")\n",
    "# print(f\"NumPy version used: {np.__version__}\")\n",
    "#print(f\"RDKit version used: {rdkit.__version__}\")\n",
    "print(f\"Python version used: {sys.version} at {datetime.datetime.now()}\")"
   ]
  },
  {
   "cell_type": "code",
   "execution_count": 2,
   "id": "ea051933",
   "metadata": {},
   "outputs": [],
   "source": [
    "# PyTorch example re. saving & reloading tensors\n",
    "# t = torch.tensor([1., 2.])\n",
    "# torch.save(t, 'tensor.pt')\n",
    "# ts = torch.load('tensor.pt')\n",
    "# ts"
   ]
  },
  {
   "cell_type": "code",
   "execution_count": 3,
   "id": "4dc2e5b9",
   "metadata": {},
   "outputs": [],
   "source": [
    "# Load adrs tensors from 2_ADR_regressor.ipynb after it's saved (from 2_ADR_regressor_save_tensors.ipynb)\n",
    "# adrs_ts = torch.load(\"adr_train_tensors.pt\")\n",
    "# adrs_ts"
   ]
  },
  {
   "cell_type": "code",
   "execution_count": null,
   "id": "21e3dd2f",
   "metadata": {},
   "outputs": [],
   "source": [
    "# Plan\n",
    "# If wanting to use tokenizer.decode(), likely may need to build a tokenization/tokenizer model first...?\n",
    "\n",
    "# appears to be workable via two different packages e.g. tokenizers package or transformers pakcage\n",
    "\n",
    "# consider trying HuggingFace's transformers:\n",
    "# 1. Set up tokenizer model that will tokenize the ADRs/words\n",
    "# 2. Apply tokenizer.decode() function to each tensor row/sequence (via using list comprehension)\n",
    "# 3. Use sample code snippet below to decode tensors: \n",
    "# decoded = [tokenizer.decode(x) for x in adrs_ts]\n",
    "# the code will iterate through each row/sequence of tensors and apply the decode() method \n",
    "# which'll transform the numerical IDs back into human-readable texts/words\n",
    "\n",
    "# other methods that may be useful:\n",
    "# convert_ids_to_tokens - converts numerical IDs back into corresponding token identifiers\n",
    "# convert_tokens_to_string - merges sub-word tokens into complete words if needed"
   ]
  },
  {
   "cell_type": "code",
   "execution_count": 16,
   "id": "22c5ab43",
   "metadata": {},
   "outputs": [],
   "source": [
    "## load cyp3a4 substrates adrs in texts\n",
    "# import pickle\n",
    "# with open(\"cyp3a4_adrs\", \"rb\") as adrs:\n",
    "#     cyp3a4_subs_adrs = pickle.load(adrs)"
   ]
  },
  {
   "cell_type": "code",
   "execution_count": 17,
   "id": "23ba6ec4",
   "metadata": {},
   "outputs": [],
   "source": [
    "# cyp3a4_subs_adrs"
   ]
  },
  {
   "cell_type": "code",
   "execution_count": 18,
   "id": "d53af8b0",
   "metadata": {},
   "outputs": [],
   "source": [
    "# Try writing cyp3a4 adrs into text file\n",
    "# with open(\"cyp3a4_adrs\", \"w\") as file:\n",
    "#     file.write(str(cyp3a4_subs_adrs))"
   ]
  },
  {
   "cell_type": "code",
   "execution_count": null,
   "id": "d25af509",
   "metadata": {},
   "outputs": [],
   "source": [
    "# Hmm... learning re. datasets package... can load dataset from pandas\n",
    "\n",
    "# Trialling using cyp subs adrs as another set of dataset & save as separate text csv file\n",
    "# import pandas as pd\n",
    "# df = pd.read_csv(\"Data/cyp_substrates_adrs.csv\")\n",
    "# df"
   ]
  },
  {
   "cell_type": "code",
   "execution_count": 20,
   "id": "7b8102d6",
   "metadata": {},
   "outputs": [],
   "source": [
    "# cyp_adrs = list(df[\"adverse_drug_reactions\"])\n",
    "# cyp_adrs"
   ]
  },
  {
   "cell_type": "code",
   "execution_count": 21,
   "id": "9223dfc5",
   "metadata": {},
   "outputs": [],
   "source": [
    "# with open(\"cyp_adrs.csv\", \"w\") as file:\n",
    "#     file.write(str(cyp_adrs))"
   ]
  },
  {
   "cell_type": "code",
   "execution_count": 22,
   "id": "94c30be2",
   "metadata": {},
   "outputs": [],
   "source": [
    "# using new datasets package - https://huggingface.co/docs/datasets/index\n",
    "# loading directly from pandas df\n",
    "# from datasets import load_dataset, Dataset\n",
    "\n",
    "# dataset = Dataset.from_pandas(df)\n",
    "# dataset"
   ]
  }
 ],
 "metadata": {
  "kernelspec": {
   "display_name": ".venv",
   "language": "python",
   "name": "python3"
  },
  "language_info": {
   "codemirror_mode": {
    "name": "ipython",
    "version": 3
   },
   "file_extension": ".py",
   "mimetype": "text/x-python",
   "name": "python",
   "nbconvert_exporter": "python",
   "pygments_lexer": "ipython3",
   "version": "3.12.7"
  }
 },
 "nbformat": 4,
 "nbformat_minor": 5
}
