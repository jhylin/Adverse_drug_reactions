{
 "cells": [
  {
   "cell_type": "code",
   "execution_count": 1,
   "id": "e2d95e00",
   "metadata": {},
   "outputs": [
    {
     "name": "stdout",
     "output_type": "stream",
     "text": [
      "Pandas version used: 2.2.3\n",
      "PyTorch version used: 2.2.2\n",
      "NumPy version used: 1.26.4\n",
      "Python version used: 3.12.7 (main, Oct 16 2024, 09:10:10) [Clang 18.1.8 ]\n"
     ]
    }
   ],
   "source": [
    "import pandas as pd\n",
    "import torch\n",
    "import torch.nn as nn\n",
    "import torch.nn.functional as F\n",
    "from torch.nn.functional import one_hot\n",
    "from torch.utils.data import TensorDataset, DataLoader\n",
    "import numpy as np\n",
    "# import datamol as dm\n",
    "# import rdkit\n",
    "# from rdkit import Chem\n",
    "# from rdkit.Chem import rdFingerprintGenerator\n",
    "# import useful_rdkit_utils as uru\n",
    "import sys\n",
    "from matplotlib import pyplot as plt\n",
    "\n",
    "print(f\"Pandas version used: {pd.__version__}\")\n",
    "print(f\"PyTorch version used: {torch.__version__}\")\n",
    "print(f\"NumPy version used: {np.__version__}\")\n",
    "#print(f\"RDKit version used: {rdkit.__version__}\")\n",
    "print(f\"Python version used: {sys.version}\")"
   ]
  },
  {
   "cell_type": "code",
   "execution_count": 2,
   "id": "ea051933",
   "metadata": {},
   "outputs": [
    {
     "data": {
      "text/plain": [
       "tensor([1., 2.])"
      ]
     },
     "execution_count": 2,
     "metadata": {},
     "output_type": "execute_result"
    }
   ],
   "source": [
    "# PyTorch example re. saving & reloading tensors\n",
    "t = torch.tensor([1., 2.])\n",
    "torch.save(t, 'tensor.pt')\n",
    "ts = torch.load('tensor.pt')\n",
    "ts"
   ]
  },
  {
   "cell_type": "code",
   "execution_count": 3,
   "id": "4dc2e5b9",
   "metadata": {},
   "outputs": [
    {
     "data": {
      "text/plain": [
       "tensor([[-1.5256, -0.7502],\n",
       "        [-0.6540, -1.6095],\n",
       "        [-0.1002, -0.6092],\n",
       "        ...,\n",
       "        [ 0.8748,  0.9873],\n",
       "        [-0.7102,  2.8641],\n",
       "        [ 1.1651,  2.0154]], requires_grad=True)"
      ]
     },
     "execution_count": 3,
     "metadata": {},
     "output_type": "execute_result"
    }
   ],
   "source": [
    "# Load adrs tensors from 2_ADR_regressor.ipynb after it's saved (from 2_ADR_regressor_save_tensors.ipynb)\n",
    "adrs_ts = torch.load(\"adr_train_tensors.pt\")\n",
    "adrs_ts"
   ]
  },
  {
   "cell_type": "code",
   "execution_count": 4,
   "id": "21e3dd2f",
   "metadata": {},
   "outputs": [],
   "source": [
    "# Plan\n",
    "# If wanting to use tokenizer.decode(), likely may need to build a tokenization/tokenizer model first...?\n",
    "\n",
    "# consider trying HuggingFace's transformers:\n",
    "# 1. Set up tokenizer model that will tokenize the ADRs/words\n",
    "# 2. Apply tokenizer.decode() function to each tensor row/sequence (via using list comprehension)\n",
    "# 3. Use sample code snippet below to decode tensors: \n",
    "# decoded = [tokenizer.decode(x) for x in adrs_ts]\n",
    "# the code will iterate through each row/sequence of tensors and apply the decode() method \n",
    "# which'll transform the numerical IDs back into human-readable texts/words\n",
    "\n",
    "# other methods that may be useful:\n",
    "# convert_ids_to_tokens - converts numerical IDs back into corresponding token identifiers\n",
    "# convert_tokens_to_string - merges sub-word tokens into complete words if needed\n",
    "\n",
    "\n",
    "# may need to also use/integrate code with tokenizers package? (https://pypi.org/project/tokenizers/)"
   ]
  },
  {
   "cell_type": "code",
   "execution_count": 5,
   "id": "5d9fab60",
   "metadata": {},
   "outputs": [],
   "source": [
    "## Sample normalizers code to \"normalise\" texts\n",
    "# somehow the normalizer code is not quite working yet... text data in and the same text data out...\n",
    "\n",
    "# from tokenizers.models import BPE, WordLevel, WordPiece\n",
    "# from tokenizers import Tokenizer, normalizers\n",
    "# from tokenizers.normalizers import StripAccents, Sequence, Replace\n",
    "\n",
    "# BPE - byte pair encoding\n",
    "# bpe_tokenizer = Tokenizer(BPE())\n",
    "# print(bpe_tokenizer.normalizer)\n",
    "# bpe_tokenizer.normalizer = normalizers.Sequence([StripAccents()])\n",
    "## normalizer seems to be set already even though code seems not right within the normalizers.Sequence() (?)\n",
    "# print(bpe_tokenizer.normalizer)\n",
    "\n",
    "# sentences = ['abdominal_pain', 'Höw aRę ŸõŪ dÔįñg?']\n",
    "\n",
    "# normalized_sentences = [bpe_tokenizer.normalizer.normalize_str(s) for s in sentences]\n",
    "# normalized_sentences"
   ]
  },
  {
   "cell_type": "code",
   "execution_count": 6,
   "id": "086f9b70",
   "metadata": {},
   "outputs": [
    {
     "data": {
      "text/plain": [
       "{'thrombocytopenia(pm),': 44,\n",
       " 'arthralgia^,': 7,\n",
       " 'influenza_like_illness^,': 25,\n",
       " 'nasal_congestion^,': 30,\n",
       " 'oropharyngeal_pain^,': 33,\n",
       " 'epistaxis^,': 12,\n",
       " 'erythema^,': 13,\n",
       " 'RTI^^,': 2,\n",
       " 'abnormal_LFT^^,': 3,\n",
       " 'fever^,': 14,\n",
       " 'leukopenia(pm),': 28,\n",
       " 'rhinitis^,': 39,\n",
       " 'diarrhea^,': 10,\n",
       " 'anemia^,': 5,\n",
       " 'hypersensitivity_reaction^,': 22,\n",
       " 'hematocrit_decreased^,': 18,\n",
       " 'orthostatic_hypotension^,': 34,\n",
       " 'sinus_congestion^,': 40,\n",
       " 'pruritus^,': 37,\n",
       " 'dermatitis(pm),': 9,\n",
       " 'DRESS(pm),': 1,\n",
       " 'blurred_vision^,': 8,\n",
       " 'nasopharyngitis^,': 31,\n",
       " 'hemoglobin_decreased^^,': 19,\n",
       " 'neutropenia(pm),': 32,\n",
       " 'rash(pm),': 38,\n",
       " 'anaphylaxis(pm)': 4,\n",
       " 'sinusitis^,': 41,\n",
       " 'gastroesophageal_reflux_disease^,': 16,\n",
       " 'angioedema(pm),': 6,\n",
       " 'palpitation^,': 35,\n",
       " 'hepatic_cirrhosis(pm),': 20,\n",
       " 'liver_failure(pm),': 29,\n",
       " 'jaundice(pm),': 26,\n",
       " 'sperm_count_decreased^^,': 42,\n",
       " 'chest_pain^,': 0,\n",
       " 'syncope^,': 43,\n",
       " 'headache^^,': 17,\n",
       " 'joint_swelling^,': 27,\n",
       " 'vertigo^,': 46,\n",
       " 'hypotension^,': 23,\n",
       " 'peripheral_edema^,': 36,\n",
       " 'hot_flush^,': 21,\n",
       " 'unstable_angina^,': 45,\n",
       " 'edema^^,': 11,\n",
       " 'idiopathic_pulmonary_fibrosis^,': 24,\n",
       " 'flushing^,': 15}"
      ]
     },
     "execution_count": 6,
     "metadata": {},
     "output_type": "execute_result"
    }
   ],
   "source": [
    "# example text data from one of CYP3A4 substrates - bosenten's ADRs \n",
    "# since ADRs data are preprocessed a bit more than raw texts found elsewhere, decided to go straight to create a tokenizer\n",
    "data = [\"abnormal_LFT^^, headache^^, RTI^^, hemoglobin_decreased^^, sperm_count_decreased^^, edema^^, hepatic_cirrhosis(pm), liver_failure(pm), jaundice(pm), syncope^, sinusitis^, nasal_congestion^, sinus_congestion^, rhinitis^, oropharyngeal_pain^, epistaxis^, nasopharyngitis^, idiopathic_pulmonary_fibrosis^, anemia^, hematocrit_decreased^, thrombocytopenia(pm), neutropenia(pm), leukopenia(pm), flushing^, hypotension^, palpitation^, orthostatic_hypotension^, unstable_angina^, hot_flush^, gastroesophageal_reflux_disease^, diarrhea^, pruritus^, erythema^, angioedema(pm), DRESS(pm), rash(pm), dermatitis(pm), arthralgia^, joint_swelling^, blurred_vision^, chest_pain^, peripheral_edema^, influenza_like_illness^, vertigo^, fever^, chest_pain^, hypersensitivity_reaction^, anaphylaxis(pm)\"]\n",
    "\n",
    "from tokenizers.models import WordLevel\n",
    "from tokenizers import Tokenizer, models, normalizers, pre_tokenizers, decoders, trainers\n",
    "\n",
    "# have not yet taken into account of unknown words or padding token\n",
    "tokenizer = Tokenizer(models.WordLevel())\n",
    "\n",
    "trainer = trainers.WordLevelTrainer(vocab_size=100000)\n",
    "\n",
    "# training tokenizer \n",
    "# specify iterator - pass through iterator a sequence of sequences in the data via using map() function to apply split()\n",
    "# and trainer\n",
    "tokenizer.train_from_iterator(map(lambda x: x.split(), data), trainer=trainer)\n",
    "\n",
    "tokenizer.get_vocab()\n",
    "# returns the indices of each token in the text data"
   ]
  },
  {
   "cell_type": "code",
   "execution_count": 7,
   "id": "aa3b1612",
   "metadata": {},
   "outputs": [
    {
     "name": "stdout",
     "output_type": "stream",
     "text": [
      "['abnormal_LFT^^,', 'headache^^,', 'RTI^^,', 'hemoglobin_decreased^^,', 'sperm_count_decreased^^,', 'edema^^,', 'hepatic_cirrhosis(pm),', 'liver_failure(pm),', 'jaundice(pm),', 'syncope^,', 'sinusitis^,', 'nasal_congestion^,', 'sinus_congestion^,', 'rhinitis^,', 'oropharyngeal_pain^,', 'epistaxis^,', 'nasopharyngitis^,', 'idiopathic_pulmonary_fibrosis^,', 'anemia^,', 'hematocrit_decreased^,', 'thrombocytopenia(pm),', 'neutropenia(pm),', 'leukopenia(pm),', 'flushing^,', 'hypotension^,', 'palpitation^,', 'orthostatic_hypotension^,', 'unstable_angina^,', 'hot_flush^,', 'gastroesophageal_reflux_disease^,', 'diarrhea^,', 'pruritus^,', 'erythema^,', 'angioedema(pm),', 'DRESS(pm),', 'rash(pm),', 'dermatitis(pm),', 'arthralgia^,', 'joint_swelling^,', 'blurred_vision^,', 'chest_pain^,', 'peripheral_edema^,', 'influenza_like_illness^,', 'vertigo^,', 'fever^,', 'chest_pain^,', 'hypersensitivity_reaction^,', 'anaphylaxis(pm)']\n"
     ]
    }
   ],
   "source": [
    "# using str.split() but punctuations such as commas are not stripped/splitted\n",
    "for t in data:\n",
    "    print(t.split())"
   ]
  },
  {
   "cell_type": "code",
   "execution_count": 8,
   "id": "f381bfea",
   "metadata": {},
   "outputs": [
    {
     "data": {
      "text/plain": [
       "[[('abnormal_LFT', (0, 12)),\n",
       "  ('^^,', (12, 15)),\n",
       "  ('headache', (16, 24)),\n",
       "  ('^^,', (24, 27)),\n",
       "  ('RTI', (28, 31)),\n",
       "  ('^^,', (31, 34)),\n",
       "  ('hemoglobin_decreased', (35, 55)),\n",
       "  ('^^,', (55, 58)),\n",
       "  ('sperm_count_decreased', (59, 80)),\n",
       "  ('^^,', (80, 83)),\n",
       "  ('edema', (84, 89)),\n",
       "  ('^^,', (89, 92)),\n",
       "  ('hepatic_cirrhosis', (93, 110)),\n",
       "  ('(', (110, 111)),\n",
       "  ('pm', (111, 113)),\n",
       "  ('),', (113, 115)),\n",
       "  ('liver_failure', (116, 129)),\n",
       "  ('(', (129, 130)),\n",
       "  ('pm', (130, 132)),\n",
       "  ('),', (132, 134)),\n",
       "  ('jaundice', (135, 143)),\n",
       "  ('(', (143, 144)),\n",
       "  ('pm', (144, 146)),\n",
       "  ('),', (146, 148)),\n",
       "  ('syncope', (149, 156)),\n",
       "  ('^,', (156, 158)),\n",
       "  ('sinusitis', (159, 168)),\n",
       "  ('^,', (168, 170)),\n",
       "  ('nasal_congestion', (171, 187)),\n",
       "  ('^,', (187, 189)),\n",
       "  ('sinus_congestion', (190, 206)),\n",
       "  ('^,', (206, 208)),\n",
       "  ('rhinitis', (209, 217)),\n",
       "  ('^,', (217, 219)),\n",
       "  ('oropharyngeal_pain', (220, 238)),\n",
       "  ('^,', (238, 240)),\n",
       "  ('epistaxis', (241, 250)),\n",
       "  ('^,', (250, 252)),\n",
       "  ('nasopharyngitis', (253, 268)),\n",
       "  ('^,', (268, 270)),\n",
       "  ('idiopathic_pulmonary_fibrosis', (271, 300)),\n",
       "  ('^,', (300, 302)),\n",
       "  ('anemia', (303, 309)),\n",
       "  ('^,', (309, 311)),\n",
       "  ('hematocrit_decreased', (312, 332)),\n",
       "  ('^,', (332, 334)),\n",
       "  ('thrombocytopenia', (335, 351)),\n",
       "  ('(', (351, 352)),\n",
       "  ('pm', (352, 354)),\n",
       "  ('),', (354, 356)),\n",
       "  ('neutropenia', (357, 368)),\n",
       "  ('(', (368, 369)),\n",
       "  ('pm', (369, 371)),\n",
       "  ('),', (371, 373)),\n",
       "  ('leukopenia', (374, 384)),\n",
       "  ('(', (384, 385)),\n",
       "  ('pm', (385, 387)),\n",
       "  ('),', (387, 389)),\n",
       "  ('flushing', (390, 398)),\n",
       "  ('^,', (398, 400)),\n",
       "  ('hypotension', (401, 412)),\n",
       "  ('^,', (412, 414)),\n",
       "  ('palpitation', (415, 426)),\n",
       "  ('^,', (426, 428)),\n",
       "  ('orthostatic_hypotension', (429, 452)),\n",
       "  ('^,', (452, 454)),\n",
       "  ('unstable_angina', (455, 470)),\n",
       "  ('^,', (470, 472)),\n",
       "  ('hot_flush', (473, 482)),\n",
       "  ('^,', (482, 484)),\n",
       "  ('gastroesophageal_reflux_disease', (485, 516)),\n",
       "  ('^,', (516, 518)),\n",
       "  ('diarrhea', (519, 527)),\n",
       "  ('^,', (527, 529)),\n",
       "  ('pruritus', (530, 538)),\n",
       "  ('^,', (538, 540)),\n",
       "  ('erythema', (541, 549)),\n",
       "  ('^,', (549, 551)),\n",
       "  ('angioedema', (552, 562)),\n",
       "  ('(', (562, 563)),\n",
       "  ('pm', (563, 565)),\n",
       "  ('),', (565, 567)),\n",
       "  ('DRESS', (568, 573)),\n",
       "  ('(', (573, 574)),\n",
       "  ('pm', (574, 576)),\n",
       "  ('),', (576, 578)),\n",
       "  ('rash', (579, 583)),\n",
       "  ('(', (583, 584)),\n",
       "  ('pm', (584, 586)),\n",
       "  ('),', (586, 588)),\n",
       "  ('dermatitis', (589, 599)),\n",
       "  ('(', (599, 600)),\n",
       "  ('pm', (600, 602)),\n",
       "  ('),', (602, 604)),\n",
       "  ('arthralgia', (605, 615)),\n",
       "  ('^,', (615, 617)),\n",
       "  ('joint_swelling', (618, 632)),\n",
       "  ('^,', (632, 634)),\n",
       "  ('blurred_vision', (635, 649)),\n",
       "  ('^,', (649, 651)),\n",
       "  ('chest_pain', (652, 662)),\n",
       "  ('^,', (662, 664)),\n",
       "  ('peripheral_edema', (665, 681)),\n",
       "  ('^,', (681, 683)),\n",
       "  ('influenza_like_illness', (684, 706)),\n",
       "  ('^,', (706, 708)),\n",
       "  ('vertigo', (709, 716)),\n",
       "  ('^,', (716, 718)),\n",
       "  ('fever', (719, 724)),\n",
       "  ('^,', (724, 726)),\n",
       "  ('chest_pain', (727, 737)),\n",
       "  ('^,', (737, 739)),\n",
       "  ('hypersensitivity_reaction', (740, 765)),\n",
       "  ('^,', (765, 767)),\n",
       "  ('anaphylaxis', (768, 779)),\n",
       "  ('(', (779, 780)),\n",
       "  ('pm', (780, 782)),\n",
       "  (')', (782, 783))]]"
      ]
     },
     "execution_count": 8,
     "metadata": {},
     "output_type": "execute_result"
    }
   ],
   "source": [
    "# using pre_tokenizer will split at white spaces and remove punctuations, and set tokens for each word and each punctuation\n",
    "pre_tokenizer = pre_tokenizers.Whitespace()\n",
    "split_data = [pre_tokenizer.pre_tokenize_str(t) for t in data]\n",
    "split_data"
   ]
  },
  {
   "cell_type": "code",
   "execution_count": 9,
   "id": "59a15731",
   "metadata": {},
   "outputs": [
    {
     "name": "stdout",
     "output_type": "stream",
     "text": [
      "ID: 0, token: chest_pain^,\n",
      "ID: 1, token: DRESS(pm),\n",
      "ID: 2, token: RTI^^,\n",
      "ID: 3, token: abnormal_LFT^^,\n",
      "ID: 4, token: anaphylaxis(pm)\n",
      "ID: 5, token: anemia^,\n",
      "ID: 6, token: angioedema(pm),\n",
      "ID: 7, token: arthralgia^,\n",
      "ID: 8, token: blurred_vision^,\n",
      "ID: 9, token: dermatitis(pm),\n"
     ]
    }
   ],
   "source": [
    "for i in range(10):\n",
    "    print(f'ID: {i}, token: {tokenizer.id_to_token(i)}')"
   ]
  },
  {
   "cell_type": "code",
   "execution_count": 10,
   "id": "6ffc932f",
   "metadata": {},
   "outputs": [
    {
     "data": {
      "text/plain": [
       "47"
      ]
     },
     "execution_count": 10,
     "metadata": {},
     "output_type": "execute_result"
    }
   ],
   "source": [
    "# number of unique tokens (words)\n",
    "tokenizer.get_vocab_size()"
   ]
  },
  {
   "cell_type": "code",
   "execution_count": 11,
   "id": "82a260a1",
   "metadata": {},
   "outputs": [
    {
     "data": {
      "text/plain": [
       "tensor([[-1.5256, -0.7502],\n",
       "        [-0.6540, -1.6095],\n",
       "        [-0.1002, -0.6092],\n",
       "        ...,\n",
       "        [ 0.8748,  0.9873],\n",
       "        [-0.7102,  2.8641],\n",
       "        [ 1.1651,  2.0154]], requires_grad=True)"
      ]
     },
     "execution_count": 11,
     "metadata": {},
     "output_type": "execute_result"
    }
   ],
   "source": [
    "# hypothetically speaking and making adrs_ts as X_train -> trying to set up PyTorch's DataLoader\n",
    "X_train = adrs_ts\n",
    "X_train"
   ]
  },
  {
   "cell_type": "code",
   "execution_count": null,
   "id": "22c5ab43",
   "metadata": {},
   "outputs": [],
   "source": [
    "## load cyp3a4 substrates adrs in texts\n",
    "import pickle\n",
    "with open(\"cyp3a4_adrs\", \"rb\") as adrs:\n",
    "    cyp3a4_subs_adrs = pickle.load(adrs)"
   ]
  },
  {
   "cell_type": "code",
   "execution_count": 14,
   "id": "23ba6ec4",
   "metadata": {},
   "outputs": [
    {
     "data": {
      "text/plain": [
       "['constipation^^, leucopenia^^, dizziness^^, sedation^^, ataxia^^, elevated_GGT^^, allergic_skin_reactions^^, eosinophilia^, thrombocytopenia^, neutropenia^, headache^, tremor^, elevated_ALP^, pruritus^, paresthesia^, diplopia^, blurred_vision^, hyponatremia^, fluid_retention^, oedema^, weight_gain^, reduced_plasma_osmolarity_(ADH_like_effect)^, vertigo^',\n",
       " 'dizziness^^, sedation^^, fatigue^, vertigo^, accidental_injury^, insomnia^, anxiety^, dry_mouth^, constipation^, metrorrhagia^, abdominal_pain^, anaphylaxis(pm), angioedema(pm), pruritus(pm), urticaria(pm)',\n",
       " 'rash^^, diarrhea^^, abdominal_pain^^, constipation^^, dyspepsia^^, hemorrhage^^, neutropenia^^, thrombocytopenia^^, anemia^^, influenza^^, weight_gain^^, muscle_spasm/cramps^^, musculoskeletal_pain^^, joint_pain^^, myalgia^^, bone_pain^^, headache^^, dizziness^^, periorbital_edema^^, edema^^, fatigue^^, fever^^, insomnia^^, depression^^, nasopharyngitis^^, cough^^, upper_respiratory_tract infection^^, pharyngolaryngeal_pain^^, sinusitis^^, flushing^, pruritus^, face_edema^, dry skin^, erythema^, alopecia^, night_sweats^, photosensitivity_reaction^, flatulence^, abdominal_distension^, gastroesophageal_reflux^, dry_mouth^, gastritis^, pancytopenia^, febrile_neutropenia^, increased_hepatic_enzymes^, anorexia^, weight_loss^, joint_swelling^, paresthesia^, hypoesthesia^, eyelid_edema^, lacrimation_increased^, conjunctival_hemorrhage^, conjunctivitis^, dry_eye^, blurred_vision^, taste_disturbance^, weakness^, generalized_edema^, rigors^, dyspnea^, epistaxis^',\n",
       " 'hypertension^^, atrial_fibrillation^^, sinus_tachycardia^^,  rash^^, skin_infection^^, pruritus^^, diarrhea^^, stomatitis^^, abdominal_pain^^, constipation^^, dyspepsia^^, gastroesophageal_reflux_disease^^, UTI^^, decreased_platelets^^, neutropenia^^, decreased_neutrophils^^, decreased_hemoglobin^^, thrombocytopenia^^, hemorrhage^^, anemia^^, lymphocytosis^^, increased_bilirubin^^, increased_AST^^, increased_ALT^^, hepatic_failure(pm), hepatic_cirrhosis(pm), hepatitis_B_reactivation(pm), hepatotoxicity(pm), hypogammaglobulinemia^^, hyperuricemia^^, decreased_appetite^^, hypokalemia^^, musculoskeletal_pain^^, arthralgia^^, muscle_spasms^^, osteonecrosis^^, headache^^, dizziness^^, peripheral_neuropathy(pm)^^, dry_eye^^, blurred_vision^^, increased_lacrimation^^, reduced_visual_acuity^^, conjunctivitis^^, eye_hemorrhage(pm), second_malignancies^^, fatigue^^, fever^^, peripheral_edema^^, pain^^, infections^^, fall^^, asthenia^^, chills^^, sepsis^^, decreased_weight^^, insomnia^^, increased_blood_creatinine^^, upper_RTI^^, cough^^, pneumonia^^, dyspnea^^, sinusitis^^, oropharyngeal_pain^^, bronchitis^^, nasopharyngitis^^, influenza^^, viral_upper_RTI^^, atrial_flutter^, cardiac_failure(pm)^, ventricular_tachyarrhythmias(pm)^, deaths_due_to_cardiac_causes^, erythema(pm)^, urticaria(pm)^, angioedema(pm), Stevens_Johnson_syndrome(pm), onychoclasis(pm), panniculitis(pm), neutrophilic_dermatoses(pm), major_hemorrhage^, febrile_neutropenia^, leukocytosis^,  anaphylactic_shock(pm), tumor_lysis_syndrome(pm)^, hyponatremia^, ischemic_cerebrovascular_events(pm)^, non_melanoma_skin_cancer^, non_skin_carcinomas^, basal_and_squamous_cell_carcinomas^, epistaxis^, interstitial_lung_disease(pm)',\n",
       " 'diarrhea^^, abdominal_pain^^, stomatitis^^, dyspepsia^^, fatigue^^, rash^^, decreased_appetite^^, muscle_spasms^^, abdominal_distention^, dry_mouth^, nail_disorder^, skin_fissures^, decreased_weight^, dehydration^, UTI^, increased_ALT^, increased_AST^, epistaxis^',\n",
       " 'headache^^, flatulence^^, dizziness^, sedation^, taste_disturbance/perversion^, vertigo^, abdominal_pain^, benign_fundic_gland_polyps(pm)^, constipation/constipation_aggravated^, diarrhea(c_diff_related_pm)^, dry_mouth^, duodenal_ulcer_hemorrhage^, epigastric_pain/aggravated_epigastric_pain^, gastritis/aggravated_gastritis(pm)^, pancreatitis(pm), regurgitation^, tooth_disorder^, cough^, respiratory_infection^, sinusitis^, tachypnea_(children)^, accident/injury^, fever^, pruritus^, cutaneous_lupus_erythematosus(pm), systemic_lupus_erythematosus(pm), hypertension/aggravated_hypertension^, back_pain^, bone_fracture(pm), increased_serum_gastrin^, viral_infection^, ALT_increased^, irreversible_visual_impairment(pm), loss_of_vision(pm), acute_interstitial_nephritis(pm), impaired_renal_function(pm), increased_creatinine(pm), nephrosis(pm)',\n",
       " 'fever^^, otitis_media^^, respiratory_system_reactions^^, taste_disturbance^^, diarrhea^^, accidental_injury^, asthenia^, pain(pm), fatigue(pm), tinnitus(pm), cough^, pharyngitis/pharyngeal_pain^, rhinitis^, upper_respiratory_infection^, epistaxis(pm), dizziness^, drowsiness^, headache^, sedation^, tremor(pm), abdominal_pain^, acid_regurgitation^, benign_fundic_gland_polyps^, constipation^, flatulence^, tongue_discoloration^, abdominal_swelling(pm), c_diff_associated_diarrhea(pm), esophageal_candidiasis(pm), fecal_discoloration(pm), fundic_gland_polyps(pm), irritable_colon(pm), mucosal_atrophy_of_the_tongue(pm), pancreatitis(pm), rash^, cutaneous_lupus_erythematosus(pm), dry_skin(pm), hyperhidrosis(pm), petechia(pm), skin_inflammation(pm), severe_generalized_skin_reactions(pm), systemic_lupus_erythematosus(pm), back_pain^, bone_fracture(pm), leg_pain(pm), muscle_cramps(pm), insomnia^, anxiety(pm), apathy(pm), dream_abnormalities(pm), nervousness(pm), psychiatric_and_sleep_disturbances(pm), flu_syndrome^, cholestatic_disease(pm), fatal_hepatic_failure(pm), hepatocellular_disease(pm), jaundice(pm), liver_disease(pm), liver_necrosis(pm), mixed_hepatitis(pm), bradycardia(pm), angina(pm), hypertension(pm), palpitations(pm), tachycardia(pm), anemia(pm), fatal_agranulocytosis(pm), hemolytic_anemia(pm), leukocytosis(pm), neutropenia(pm), purpura(pm), anaphylaxis(pm), anorexia(pm), cyanocobalamin_deficiency(pm), hypoglycemia(pm), elevated_serum_creatinine(pm), glycosuria(pm), anterior_ischemic_optic_neuropathy(pm), double_vision(pm), dry_eye_syndrome(pm), ocular_irritation(pm), optic_atrophy(pm), optic_neuritis(pm), hematuria(pm), microscopic_pyuria(pm), proteinuria(pm), testicular_pain(pm), urinary_frequency(pm), UTI(pm), gastroduodenal_carcinoids(ZE_syndrome,pm)',\n",
       " 'abdominal pain^^, possible_opioid_withdrawal_syndrome^, diarrhea^, flatulence^, hyperhidrosis^, headache^, nasopharyngitis^',\n",
       " 'headache^^, constipation^^, fever^^, dizziness^, serotonin_syndrome(pm), hyperalgesia(pm), allodynia(pm), pruritus^, hyperhidrosis^, rash^, dysuria^, urinary_retention^, anaphylaxis(pm), decreased_appetite^, hypoglycemia(pm), adrenal_insufficiency(pm), androgen_deficiency(pm)',\n",
       " 'hypertriglyceridemia^^, hypercholesterolemia^^, hypokalemia^^, hypophosphatemia^^, hyperglycemia^^, peripheral_edema^^, hypertension^^, chest pain^^, edema^^, lymphocele^^, constipation^^, abdominal_pain^^, diarrhea^^, dyspepsia^^, dyspnea^^, upper_RTI^^, pharyngitis^^, anemia^^, thrombocytopenia^^, blood_LDH_increased^^, blood_creatinine_increased^^, UTI^^, arthralgia^^, headache^^, acne^^, rash^^, creatinine_increased^^, fever^^, pain^^, abnormal_healing^, diabetes_mellitus^, Venous_thromboembolism^, tachycardia^, stomatitis^, pneumonia^, epistaxis^, pleural_effusion^, thrombocytopenic_purpura/hemolytic_uremic_syndrome^, leukopenia^, neutropenia^, AST_increased^, ALT_increased^, pyelonephritis^, declining_renal_function_(with_long_term_cyclosporine)^, ovarian_cysts^, menstrual_disorders^, proteinuria^, azoospermia(pm), bone_necrosis^,osteonecrosis^, tremor^, insomnia^, herpes_zoster^, herpes_simplex^,skin_cancer^, lymphoma/post_transplant_lymphoproliferative_disorder^, sepsis^, pneumonia^, pyelonephritis^, fungal/viral/bacterial_infections^, mycobacterial_infections^, cytomegalovirus^, Epstein_Barr_virus^',\n",
       " 'dizziness^^, syncopal_episodes^^, palpitations^, ventricular_arrhythmias^^, cardiac_arrest^^, cardiac_death^^, headaches^',\n",
       " 'sedation^^, ataxia^, anterograde_amnesia^, disrupted_sensory_perception(ws)^, dizziness^, drowsiness^, fatique^, general_malaise(ws)^, epileptic_attacks^, impaired_motor_ability^, tremor(ws)^, convulsion^, dysarthria^, epileptic_attacks (ws)^, headache^, impaired_motor_ability^, incoordination^, speech_disorder^, vertigo^, aggression(ws)^, anxiety(ws)^, confusion^, delirium(ws)^, irritability(ws)^, panic(ws)^, paranoid_psychosis(ws)^, withdrawal_symptoms^, asthma^, hiccup^, rhinitis^, hypotension^, palpitations(ws)^, vasodilation^, muscle_spasms(ws)^, muscle_weakness^, GI_disorders(ws)^, loss_of_appetite(ws)^, sweating(ws)^, rash^, double_vision/diplopia(rectal)^',\n",
       " 'hypothalamus_pituitary_adrenal_activity_suppression(dd), Cushingoid_appearance(dd), hirsutism(dd), impotence(dd), menstrual_irregularities(dd), peptic_ulcer_disease(dd), cataracts(dd), increased_intraocular_pressure/glaucoma(dd), myopathy(dd), osteoporosis(dd), vertebral_compression_fractures(dd), sodium_retention_related_weight_gain_and_fluid_accumulation(dd), hyperglycemia/glucose_intolerance(dd), hypokalemia(dd), psychic_disturbances(dd)',\n",
       " 'abdominal_pain^, benign_fundic_gland_polyps^, constipation^, diarrhea^, dry_mouth^, flatulence^, stomach_ache^, itching^, pruritus^, rash^, urticaria^, fatal_toxic_epidermal_necrolysis(pm), dizziness^, headache^, taste_disturbance^, speech_disorder(pm), increased_liver_enzyme_levels^, hepatotoxicity(pm), fatigue^, dry_throat^, myositis(pm), aplastic_anemia(pm), hemolytic_anemia(pm), thrombotic_thrombocytopenic_purpura(pm), anaphylactoid_reactions(pm)',\n",
       " 'headache^^, taste_disturbance^^, nasopharyngitis^^, pharyngolaryngeal_pain^^, diarrhea^^, dizziness^, metallic/bitter_taste^, sedation^, ageusia(pm), taste_disturbance(pm), cough^, nasal_congestion^, pharyngitis^, abdominal_pain^, benign_fundic_gland_polyps^, buccal_inflammation^, constipation^, dry_mouth^, dyspepsia^, fecal_discoloration^, flatulence^, heartburn^, oral_thrush^, pruritus^, tongue_discoloration^, tongue_pain^, upper_abdominal_pain^, tiredness^, depression^, insomnia(pm), increased_liver_enzymes^, hepatocellular_damage(pm), rash^, chest_pain^, arthralgia^, rhabdomyolysis(pm), anorexia^, influenza_like_symptoms^, candidal_infection^, anaphylaxis(pm)',\n",
       " 'hypotension(pm), gingival_hypertrophy(pm), urinary_frequency(pm), chest_pain(pm), increased_liver_enzymes(pm)',\n",
       " 'diarrhea^^, abdominal_pain^^, gastroenteritis^, bronchospasm(pm), rash(pm)',\n",
       " 'diarrhea^^, flatulence^, decreased_lymphocytes^, decreased_neutrophils^, decreased_hemoglobin^, elevated_AST^, elevated_ALT^, jaundice(pm), bilirubinemia(pm), elevated_creatine_kinase^, rash^, QTc_prolongation(pm), torsades_de_pointes(pm), metabolic_acidosis(pm), new_onset_diabetes_mellitus(pm_HIV_pit), exacerbation_of_pre_existing_diabetes_mellitus(pm_HIV_pit), hyperglycemia(pm_HIV_pit), ketoacidosis(pm_HIV_pit), hypersensitivity_reactions(pm)',\n",
       " 'rash^^, pruritus^^, anemia^^, decreased_mean_platelet_counts^^, decreased_hemoglobin_levels^^, decreased_lymphocyte_counts^^, decreased_absolute_neutrophil_counts^^, elevated_uric_acid_levels^^, diarrhea^^, hemorrhoids^^, anorectal_discomfort^^, fatigue^^, elevated_bilirubin^^, taste_disturbance^^, severe_rash^, toxic_epidermal_necrolysis(pm), erythema_multiforme(pm), decreased_total_white_cell_counts^, pre_renal_azotemia(pm), uric_acid_nephropathy(pm)',\n",
       " 'cinchonism',\n",
       " 'alopecia^^, rash^^, pruritus^^, diarrhea^^, constipation^^, abdominal_pain^^, stomatitis^^, dry_mouth^^, dyspepsia^^, UTI^^, decreased_lymphocytes^^, decreased_leukocytes^^, decreased_neutrophils^^, decreased_hemoglobin^^, neutropenia^^, leukopenia^^, decreased_platelets^^, anemia^^, lymphopenia^^, thrombocytopenia^^, increased_ALT^^, increased_AST^^, increased_GGT^^, hepatobiliary_toxicity^^, decreased_blood_glucose^^, decreased_appetite^^, arthralgia^^, back_pain^^, pain_in_extremity^^, headache^^, dizziness^^, increased_lacrimation^^, infections^^, fatigue^^, decreased_phosphorus^^, fever^^, peripheral_edema^^, asthenia^^, hypokalemia^^, decreased_albumin^^, insomnia^^, increased_creatinine^^, cough^^, dyspnea^^, QT_prolongation^, dry_skin^, vitiligo^, erythema^, Stevens_Johnson_syndrome(pm), toxic_epidermal_necrolysis(pm), drug_induced_hypersensitivity_syndrome/drug_reaction_with_eosinophilia_and_systemic_symptoms(pm), febrile_neutropenia^, drug-induced_liver_injury^, increased_blood_bilirubin^, hepatotoxicity^, hypocalcemia^, hypomagnesemia^, hypophosphatemia^, taste_disturbance^, vertigo^, syncope^ dry_eye^, on-treatment_deaths^, oropharyngeal_pain^, COVID-19^, pneumonia^, interstitial_lung disease/pneumonitis^(pm)',\n",
       " 'diarrhea^, dry_mouth^, headache^, sedation^, dizziness^, abnormal_dreams^, cough^, upper_RTI^, palpitations(pm), tachycardia(pm), psychomotor_hyperactivity(pm), anxiety(pm), pruritus(pm)',\n",
       " 'increased_AST^^, bacterial_and_viral_infections^^, dyspnea^^, cough^^, epistaxis^^, pharyngitis^^, pneumonia^^, rhinitis^^, increased_creatinine^^, decreased_hemoglobin^^, decreased_lymphocytes^^, anemia^^, decreased_platelets^^, decreased_leukocytes^^, thrombocytopenia^^, decreased_neutrophils^^, neutropenia^^, chest_pain^^, rash^^, pruritus^^, nail_disorder^^, dry_skin^^, acne^^, asthenia^^, fatigue^^, edema^^, fever^^, pain^^, hyperglycemia^^, mucositis^^, diarrhea^^, abdominal_pain^^, constipation^^, unspecified_urogenital_adverse_reaction^^, UTI^^, increased_total_cholesterol^^, increased_triglycerides^^, increased_ALP^^, hypophosphatemia^^, hypocalcemia^^, decreased_appetite^^, anorexia^^, hyperlipidemia^^, hypokalemia^^, weight_loss^^, hypercholesterolemia^^, hypertriglyceridemia^^, increased_LDH^^, back_pain^^, arthralgia^^, muscle_cramp^^, taste_disturbance^^, headache^^, insomnia^^, increased_total_bilirubin^, increased_ALT^, sepsis^, candidiasis^, fungal_infection^, flu_syndrome^, hypersensitivity_reactions^, upper_RTI^, pleural_effusion^, sinusitis^, interstitial_lung_disease/pneumonitis^, pneumocystis_jiroveci_pneumonia(pm), renal_failure^, leukopenia^, lymphopenia^, hypertension^, venous_thromboembolism^, thrombophlebitis^, pericardial_effusion^, folliculitis^, ecchymosis^, petechiae^, Stevens_Johnson_syndrome(pm), wound_infection/post_operative_wound_infection^, impaired_wound_healing^, angioneurotic_edema_type_reactions(pm), extravasations(pm), diabetes_mellitus^, bowel_perforation^, gastrointestinal_hemorrhage^, rectal_hemorrhage^, gastritis^, dysphagia^, abdominal_distension^, oral_pain^, gingivitis^, oral_thrush^, hemorrhoidal_hemorrhage^, dehydration^, myalgia^, rhabdomyolysis(pm), dizziness^, paresthesia^, sedation^, convulsion^, complex_regional_pain_syndrome/reflex_sympathetic_dystrophy(pm), conjunctivitis^, depression^, anxiety^']"
      ]
     },
     "execution_count": 14,
     "metadata": {},
     "output_type": "execute_result"
    }
   ],
   "source": [
    "cyp3a4_subs_adrs"
   ]
  },
  {
   "cell_type": "code",
   "execution_count": null,
   "id": "8c3b8512",
   "metadata": {},
   "outputs": [],
   "source": [
    "# Enable padding\n",
    "# Also set up a padding token\n",
    "pad_token = \"[pad]\"\n",
    "tokenizer.enable_padding(pad_id=tokenizer.token_to_id(pad_token))"
   ]
  }
 ],
 "metadata": {
  "kernelspec": {
   "display_name": ".venv",
   "language": "python",
   "name": "python3"
  },
  "language_info": {
   "codemirror_mode": {
    "name": "ipython",
    "version": 3
   },
   "file_extension": ".py",
   "mimetype": "text/x-python",
   "name": "python",
   "nbconvert_exporter": "python",
   "pygments_lexer": "ipython3",
   "version": "3.12.7"
  }
 },
 "nbformat": 4,
 "nbformat_minor": 5
}
