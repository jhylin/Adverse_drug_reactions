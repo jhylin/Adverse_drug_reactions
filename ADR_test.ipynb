{
 "cells": [
  {
   "cell_type": "markdown",
   "metadata": {},
   "source": [
    "*this notebook uses a venv created by using uv*\n",
    "- https://docs.astral.sh/uv/guides/integration/jupyter/#using-jupyter-from-vs-code"
   ]
  },
  {
   "cell_type": "code",
   "execution_count": 9,
   "metadata": {},
   "outputs": [],
   "source": [
    "import pandas as pd"
   ]
  },
  {
   "cell_type": "code",
   "execution_count": 10,
   "metadata": {},
   "outputs": [
    {
     "data": {
      "text/html": [
       "<div>\n",
       "<style scoped>\n",
       "    .dataframe tbody tr th:only-of-type {\n",
       "        vertical-align: middle;\n",
       "    }\n",
       "\n",
       "    .dataframe tbody tr th {\n",
       "        vertical-align: top;\n",
       "    }\n",
       "\n",
       "    .dataframe thead th {\n",
       "        text-align: right;\n",
       "    }\n",
       "</style>\n",
       "<table border=\"1\" class=\"dataframe\">\n",
       "  <thead>\n",
       "    <tr style=\"text-align: right;\">\n",
       "      <th></th>\n",
       "      <th>generic_drug_name</th>\n",
       "      <th>cyp_strength_of_evidence</th>\n",
       "      <th>drug_class</th>\n",
       "      <th>common_adverse_effects^^</th>\n",
       "      <th>less_common_adverse_effects^</th>\n",
       "      <th>first_ref</th>\n",
       "      <th>second_ref</th>\n",
       "      <th>date_checked</th>\n",
       "    </tr>\n",
       "  </thead>\n",
       "  <tbody>\n",
       "    <tr>\n",
       "      <th>0</th>\n",
       "      <td>carbamazepine</td>\n",
       "      <td>strong</td>\n",
       "      <td>antiepileptics</td>\n",
       "      <td>constipation^^, leucopenia^^, dizziness^^, som...</td>\n",
       "      <td>eosinophilia^, thrombocytopenia^, neutropenia^...</td>\n",
       "      <td>drugs.com</td>\n",
       "      <td>nzf</td>\n",
       "      <td>211024</td>\n",
       "    </tr>\n",
       "    <tr>\n",
       "      <th>1</th>\n",
       "      <td>eliglustat</td>\n",
       "      <td>strong</td>\n",
       "      <td>metabolic_agents</td>\n",
       "      <td>diarrhea^^, oropharyngeal_pain^^, arthralgia^^...</td>\n",
       "      <td>rash^, flatulence^, dyspepsia^, gastroesophage...</td>\n",
       "      <td>drugs.com</td>\n",
       "      <td>emc</td>\n",
       "      <td>151124</td>\n",
       "    </tr>\n",
       "  </tbody>\n",
       "</table>\n",
       "</div>"
      ],
      "text/plain": [
       "  generic_drug_name cyp_strength_of_evidence        drug_class  \\\n",
       "0     carbamazepine                   strong    antiepileptics   \n",
       "1        eliglustat                   strong  metabolic_agents   \n",
       "\n",
       "                            common_adverse_effects^^  \\\n",
       "0  constipation^^, leucopenia^^, dizziness^^, som...   \n",
       "1  diarrhea^^, oropharyngeal_pain^^, arthralgia^^...   \n",
       "\n",
       "                        less_common_adverse_effects^  first_ref second_ref  \\\n",
       "0  eosinophilia^, thrombocytopenia^, neutropenia^...  drugs.com        nzf   \n",
       "1  rash^, flatulence^, dyspepsia^, gastroesophage...  drugs.com        emc   \n",
       "\n",
       "   date_checked  \n",
       "0        211024  \n",
       "1        151124  "
      ]
     },
     "execution_count": 10,
     "metadata": {},
     "output_type": "execute_result"
    }
   ],
   "source": [
    "data = pd.read_csv(\"test\")\n",
    "data"
   ]
  },
  {
   "cell_type": "code",
   "execution_count": 11,
   "metadata": {},
   "outputs": [
    {
     "data": {
      "text/plain": [
       "generic_drug_name                       object\n",
       "cyp_strength_of_evidence                object\n",
       "drug_class                              object\n",
       "common_adverse_effects^^        string[python]\n",
       "less_common_adverse_effects^    string[python]\n",
       "first_ref                               object\n",
       "second_ref                              object\n",
       "date_checked                             int64\n",
       "dtype: object"
      ]
     },
     "execution_count": 11,
     "metadata": {},
     "output_type": "execute_result"
    }
   ],
   "source": [
    "# Change data types for ADRs\n",
    "data = data.astype({'common_adverse_effects^^': 'string', 'less_common_adverse_effects^': 'string'})\n",
    "data.dtypes"
   ]
  },
  {
   "cell_type": "code",
   "execution_count": 12,
   "metadata": {},
   "outputs": [
    {
     "data": {
      "text/plain": [
       "0    constipation^^, leucopenia^^, dizziness^^, som...\n",
       "1    diarrhea^^, oropharyngeal_pain^^, arthralgia^^...\n",
       "Name: common_adverse_effects^^, dtype: string"
      ]
     },
     "execution_count": 12,
     "metadata": {},
     "output_type": "execute_result"
    }
   ],
   "source": [
    "data[\"common_adverse_effects^^\"].explode()"
   ]
  },
  {
   "cell_type": "code",
   "execution_count": null,
   "metadata": {},
   "outputs": [],
   "source": [
    "# Separate into diff. ADR lists for diff. drugs? -> convert into tensors\n",
    "\n",
    "# More ideas needed re. ADRs <-> dense vectors <-> 2D drug structures \n",
    "# (may try to achieve ADRs -> dense vectors part first... and do a ADRs EDA & classifications initially)\n",
    "# (SAR: drug activities <-> 2d drug structures)"
   ]
  }
 ],
 "metadata": {
  "kernelspec": {
   "display_name": ".venv",
   "language": "python",
   "name": "python3"
  },
  "language_info": {
   "codemirror_mode": {
    "name": "ipython",
    "version": 3
   },
   "file_extension": ".py",
   "mimetype": "text/x-python",
   "name": "python",
   "nbconvert_exporter": "python",
   "pygments_lexer": "ipython3",
   "version": "3.12.7"
  }
 },
 "nbformat": 4,
 "nbformat_minor": 2
}
